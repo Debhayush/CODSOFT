{
 "cells": [
  {
   "cell_type": "markdown",
   "id": "0ad1e01e-6f73-45f1-982b-772351135ea1",
   "metadata": {},
   "source": [
    "### Importing required packages"
   ]
  },
  {
   "cell_type": "code",
   "execution_count": 1,
   "id": "35836f9f-9cdb-4b43-9e41-3e5250ab019e",
   "metadata": {},
   "outputs": [],
   "source": [
    "import pandas as pd\n",
    "import numpy as np\n",
    "import matplotlib.pyplot as plt"
   ]
  },
  {
   "cell_type": "markdown",
   "id": "4e974114-6a01-4aaa-b011-64619968ef3c",
   "metadata": {},
   "source": [
    "### Reading the dataset and giving it column names"
   ]
  },
  {
   "cell_type": "code",
   "execution_count": 2,
   "id": "4dea6e6c-8b60-4e08-9e47-2ba52408e13c",
   "metadata": {},
   "outputs": [],
   "source": [
    "column_names=['serial','name','genre','desc']"
   ]
  },
  {
   "cell_type": "code",
   "execution_count": 3,
   "id": "dfdda460-6730-48f6-928d-3b999e51204c",
   "metadata": {},
   "outputs": [],
   "source": [
    "df_train= pd.read_table('Downloads/archive (3)/Genre Classification Dataset/train_data.txt', sep=\":::\", header= None, names= column_names, engine='python' )"
   ]
  },
  {
   "cell_type": "code",
   "execution_count": 4,
   "id": "38f64599-c60e-48e3-bff6-729b12968335",
   "metadata": {},
   "outputs": [
    {
     "data": {
      "text/html": [
       "<div>\n",
       "<style scoped>\n",
       "    .dataframe tbody tr th:only-of-type {\n",
       "        vertical-align: middle;\n",
       "    }\n",
       "\n",
       "    .dataframe tbody tr th {\n",
       "        vertical-align: top;\n",
       "    }\n",
       "\n",
       "    .dataframe thead th {\n",
       "        text-align: right;\n",
       "    }\n",
       "</style>\n",
       "<table border=\"1\" class=\"dataframe\">\n",
       "  <thead>\n",
       "    <tr style=\"text-align: right;\">\n",
       "      <th></th>\n",
       "      <th>serial</th>\n",
       "      <th>name</th>\n",
       "      <th>genre</th>\n",
       "      <th>desc</th>\n",
       "    </tr>\n",
       "  </thead>\n",
       "  <tbody>\n",
       "    <tr>\n",
       "      <th>0</th>\n",
       "      <td>1</td>\n",
       "      <td>Oscar et la dame rose (2009)</td>\n",
       "      <td>drama</td>\n",
       "      <td>Listening in to a conversation between his do...</td>\n",
       "    </tr>\n",
       "    <tr>\n",
       "      <th>1</th>\n",
       "      <td>2</td>\n",
       "      <td>Cupid (1997)</td>\n",
       "      <td>thriller</td>\n",
       "      <td>A brother and sister with a past incestuous r...</td>\n",
       "    </tr>\n",
       "    <tr>\n",
       "      <th>2</th>\n",
       "      <td>3</td>\n",
       "      <td>Young, Wild and Wonderful (1980)</td>\n",
       "      <td>adult</td>\n",
       "      <td>As the bus empties the students for their fie...</td>\n",
       "    </tr>\n",
       "    <tr>\n",
       "      <th>3</th>\n",
       "      <td>4</td>\n",
       "      <td>The Secret Sin (1915)</td>\n",
       "      <td>drama</td>\n",
       "      <td>To help their unemployed father make ends mee...</td>\n",
       "    </tr>\n",
       "    <tr>\n",
       "      <th>4</th>\n",
       "      <td>5</td>\n",
       "      <td>The Unrecovered (2007)</td>\n",
       "      <td>drama</td>\n",
       "      <td>The film's title refers not only to the un-re...</td>\n",
       "    </tr>\n",
       "  </tbody>\n",
       "</table>\n",
       "</div>"
      ],
      "text/plain": [
       "   serial                                name       genre  \\\n",
       "0       1       Oscar et la dame rose (2009)       drama    \n",
       "1       2                       Cupid (1997)    thriller    \n",
       "2       3   Young, Wild and Wonderful (1980)       adult    \n",
       "3       4              The Secret Sin (1915)       drama    \n",
       "4       5             The Unrecovered (2007)       drama    \n",
       "\n",
       "                                                desc  \n",
       "0   Listening in to a conversation between his do...  \n",
       "1   A brother and sister with a past incestuous r...  \n",
       "2   As the bus empties the students for their fie...  \n",
       "3   To help their unemployed father make ends mee...  \n",
       "4   The film's title refers not only to the un-re...  "
      ]
     },
     "execution_count": 4,
     "metadata": {},
     "output_type": "execute_result"
    }
   ],
   "source": [
    "df_train.head()"
   ]
  },
  {
   "cell_type": "markdown",
   "id": "0bac1273-f94f-40b4-b261-9a74d0f0421d",
   "metadata": {},
   "source": [
    "### Checking number of examples in each class"
   ]
  },
  {
   "cell_type": "code",
   "execution_count": 5,
   "id": "94a55e83-7cfa-403d-a588-5ad6646e3ff1",
   "metadata": {},
   "outputs": [
    {
     "data": {
      "text/plain": [
       "genre\n",
       " drama           13613\n",
       " documentary     13096\n",
       " comedy           7447\n",
       " short            5073\n",
       " horror           2204\n",
       " thriller         1591\n",
       " action           1315\n",
       " western          1032\n",
       " reality-tv        884\n",
       " family            784\n",
       " adventure         775\n",
       " music             731\n",
       " romance           672\n",
       " sci-fi            647\n",
       " adult             590\n",
       " crime             505\n",
       " animation         498\n",
       " sport             432\n",
       " talk-show         391\n",
       " fantasy           323\n",
       " mystery           319\n",
       " musical           277\n",
       " biography         265\n",
       " history           243\n",
       " game-show         194\n",
       " news              181\n",
       " war               132\n",
       "Name: count, dtype: int64"
      ]
     },
     "execution_count": 5,
     "metadata": {},
     "output_type": "execute_result"
    }
   ],
   "source": [
    "df_train.genre.value_counts()"
   ]
  },
  {
   "cell_type": "code",
   "execution_count": 6,
   "id": "aef36642-c8d3-4405-92f5-66537494b4c0",
   "metadata": {},
   "outputs": [],
   "source": [
    "labels= df_train.genre"
   ]
  },
  {
   "cell_type": "markdown",
   "id": "3f114eb6-1219-4cc7-a7c2-1848d4525308",
   "metadata": {},
   "source": [
    "### Encoding the categorical labels into numbers"
   ]
  },
  {
   "cell_type": "code",
   "execution_count": 7,
   "id": "4d915a68-96aa-4615-bd29-e8c2d516191d",
   "metadata": {},
   "outputs": [],
   "source": [
    "from sklearn.preprocessing import LabelEncoder"
   ]
  },
  {
   "cell_type": "code",
   "execution_count": 8,
   "id": "9d946cdc-e62f-4434-80be-d00b04fd8c0b",
   "metadata": {},
   "outputs": [],
   "source": [
    "label_encoder = LabelEncoder()\n",
    "df_train['encoded_labels']= label_encoder.fit_transform(labels)"
   ]
  },
  {
   "cell_type": "code",
   "execution_count": 9,
   "id": "149526a1-927f-4017-bbff-2a393f7a68cb",
   "metadata": {},
   "outputs": [
    {
     "data": {
      "text/html": [
       "<div>\n",
       "<style scoped>\n",
       "    .dataframe tbody tr th:only-of-type {\n",
       "        vertical-align: middle;\n",
       "    }\n",
       "\n",
       "    .dataframe tbody tr th {\n",
       "        vertical-align: top;\n",
       "    }\n",
       "\n",
       "    .dataframe thead th {\n",
       "        text-align: right;\n",
       "    }\n",
       "</style>\n",
       "<table border=\"1\" class=\"dataframe\">\n",
       "  <thead>\n",
       "    <tr style=\"text-align: right;\">\n",
       "      <th></th>\n",
       "      <th>serial</th>\n",
       "      <th>name</th>\n",
       "      <th>genre</th>\n",
       "      <th>desc</th>\n",
       "      <th>encoded_labels</th>\n",
       "    </tr>\n",
       "  </thead>\n",
       "  <tbody>\n",
       "    <tr>\n",
       "      <th>0</th>\n",
       "      <td>1</td>\n",
       "      <td>Oscar et la dame rose (2009)</td>\n",
       "      <td>drama</td>\n",
       "      <td>Listening in to a conversation between his do...</td>\n",
       "      <td>8</td>\n",
       "    </tr>\n",
       "    <tr>\n",
       "      <th>1</th>\n",
       "      <td>2</td>\n",
       "      <td>Cupid (1997)</td>\n",
       "      <td>thriller</td>\n",
       "      <td>A brother and sister with a past incestuous r...</td>\n",
       "      <td>24</td>\n",
       "    </tr>\n",
       "    <tr>\n",
       "      <th>2</th>\n",
       "      <td>3</td>\n",
       "      <td>Young, Wild and Wonderful (1980)</td>\n",
       "      <td>adult</td>\n",
       "      <td>As the bus empties the students for their fie...</td>\n",
       "      <td>1</td>\n",
       "    </tr>\n",
       "    <tr>\n",
       "      <th>3</th>\n",
       "      <td>4</td>\n",
       "      <td>The Secret Sin (1915)</td>\n",
       "      <td>drama</td>\n",
       "      <td>To help their unemployed father make ends mee...</td>\n",
       "      <td>8</td>\n",
       "    </tr>\n",
       "    <tr>\n",
       "      <th>4</th>\n",
       "      <td>5</td>\n",
       "      <td>The Unrecovered (2007)</td>\n",
       "      <td>drama</td>\n",
       "      <td>The film's title refers not only to the un-re...</td>\n",
       "      <td>8</td>\n",
       "    </tr>\n",
       "  </tbody>\n",
       "</table>\n",
       "</div>"
      ],
      "text/plain": [
       "   serial                                name       genre  \\\n",
       "0       1       Oscar et la dame rose (2009)       drama    \n",
       "1       2                       Cupid (1997)    thriller    \n",
       "2       3   Young, Wild and Wonderful (1980)       adult    \n",
       "3       4              The Secret Sin (1915)       drama    \n",
       "4       5             The Unrecovered (2007)       drama    \n",
       "\n",
       "                                                desc  encoded_labels  \n",
       "0   Listening in to a conversation between his do...               8  \n",
       "1   A brother and sister with a past incestuous r...              24  \n",
       "2   As the bus empties the students for their fie...               1  \n",
       "3   To help their unemployed father make ends mee...               8  \n",
       "4   The film's title refers not only to the un-re...               8  "
      ]
     },
     "execution_count": 9,
     "metadata": {},
     "output_type": "execute_result"
    }
   ],
   "source": [
    "df_train.head()"
   ]
  },
  {
   "cell_type": "markdown",
   "id": "63755337-143d-4583-9eb3-1623a21fb33c",
   "metadata": {},
   "source": [
    "### Preprocessing the description by removing stop words and applying lemmatization"
   ]
  },
  {
   "cell_type": "code",
   "execution_count": 10,
   "id": "3f4a66b1-0c07-4156-9ff6-21bf728fe342",
   "metadata": {},
   "outputs": [],
   "source": [
    "import spacy\n",
    "nlp = spacy.load('en_core_web_sm')"
   ]
  },
  {
   "cell_type": "code",
   "execution_count": 11,
   "id": "a85d2e9f-3481-45e9-98d4-a44084bfaf8c",
   "metadata": {},
   "outputs": [],
   "source": [
    "def preprocessing(text):\n",
    "    no_stop_word=[]\n",
    "    corpus= nlp(text)\n",
    "    for words in corpus:\n",
    "        if not words.is_stop and not words.is_punct:\n",
    "            no_stop_word.append(words.lemma_)\n",
    "    return \" \".join(no_stop_word)"
   ]
  },
  {
   "cell_type": "code",
   "execution_count": 12,
   "id": "f3488a81-175f-4c69-ad5a-331bb84470bf",
   "metadata": {},
   "outputs": [],
   "source": [
    "df_train['prepocessed_desc']= df_train.desc.apply(preprocessing)"
   ]
  },
  {
   "cell_type": "code",
   "execution_count": 13,
   "id": "5c357c6b-48be-42a1-b89e-8f565231c9db",
   "metadata": {},
   "outputs": [
    {
     "data": {
      "text/plain": [
       "(54214, 6)"
      ]
     },
     "execution_count": 13,
     "metadata": {},
     "output_type": "execute_result"
    }
   ],
   "source": [
    "df_train.shape"
   ]
  },
  {
   "cell_type": "code",
   "execution_count": 14,
   "id": "703fb618-c607-48da-b372-8f5319eb307b",
   "metadata": {},
   "outputs": [
    {
     "data": {
      "text/html": [
       "<div>\n",
       "<style scoped>\n",
       "    .dataframe tbody tr th:only-of-type {\n",
       "        vertical-align: middle;\n",
       "    }\n",
       "\n",
       "    .dataframe tbody tr th {\n",
       "        vertical-align: top;\n",
       "    }\n",
       "\n",
       "    .dataframe thead th {\n",
       "        text-align: right;\n",
       "    }\n",
       "</style>\n",
       "<table border=\"1\" class=\"dataframe\">\n",
       "  <thead>\n",
       "    <tr style=\"text-align: right;\">\n",
       "      <th></th>\n",
       "      <th>serial</th>\n",
       "      <th>name</th>\n",
       "      <th>genre</th>\n",
       "      <th>desc</th>\n",
       "      <th>encoded_labels</th>\n",
       "      <th>prepocessed_desc</th>\n",
       "    </tr>\n",
       "  </thead>\n",
       "  <tbody>\n",
       "    <tr>\n",
       "      <th>0</th>\n",
       "      <td>1</td>\n",
       "      <td>Oscar et la dame rose (2009)</td>\n",
       "      <td>drama</td>\n",
       "      <td>Listening in to a conversation between his do...</td>\n",
       "      <td>8</td>\n",
       "      <td>listen conversation doctor parent 10 year ol...</td>\n",
       "    </tr>\n",
       "    <tr>\n",
       "      <th>1</th>\n",
       "      <td>2</td>\n",
       "      <td>Cupid (1997)</td>\n",
       "      <td>thriller</td>\n",
       "      <td>A brother and sister with a past incestuous r...</td>\n",
       "      <td>24</td>\n",
       "      <td>brother sister past incestuous relationship ...</td>\n",
       "    </tr>\n",
       "    <tr>\n",
       "      <th>2</th>\n",
       "      <td>3</td>\n",
       "      <td>Young, Wild and Wonderful (1980)</td>\n",
       "      <td>adult</td>\n",
       "      <td>As the bus empties the students for their fie...</td>\n",
       "      <td>1</td>\n",
       "      <td>bus empty student field trip Museum Natural ...</td>\n",
       "    </tr>\n",
       "    <tr>\n",
       "      <th>3</th>\n",
       "      <td>4</td>\n",
       "      <td>The Secret Sin (1915)</td>\n",
       "      <td>drama</td>\n",
       "      <td>To help their unemployed father make ends mee...</td>\n",
       "      <td>8</td>\n",
       "      <td>help unemployed father end meet Edith twin s...</td>\n",
       "    </tr>\n",
       "    <tr>\n",
       "      <th>4</th>\n",
       "      <td>5</td>\n",
       "      <td>The Unrecovered (2007)</td>\n",
       "      <td>drama</td>\n",
       "      <td>The film's title refers not only to the un-re...</td>\n",
       "      <td>8</td>\n",
       "      <td>film title refer un recover body ground zero...</td>\n",
       "    </tr>\n",
       "  </tbody>\n",
       "</table>\n",
       "</div>"
      ],
      "text/plain": [
       "   serial                                name       genre  \\\n",
       "0       1       Oscar et la dame rose (2009)       drama    \n",
       "1       2                       Cupid (1997)    thriller    \n",
       "2       3   Young, Wild and Wonderful (1980)       adult    \n",
       "3       4              The Secret Sin (1915)       drama    \n",
       "4       5             The Unrecovered (2007)       drama    \n",
       "\n",
       "                                                desc  encoded_labels  \\\n",
       "0   Listening in to a conversation between his do...               8   \n",
       "1   A brother and sister with a past incestuous r...              24   \n",
       "2   As the bus empties the students for their fie...               1   \n",
       "3   To help their unemployed father make ends mee...               8   \n",
       "4   The film's title refers not only to the un-re...               8   \n",
       "\n",
       "                                    prepocessed_desc  \n",
       "0    listen conversation doctor parent 10 year ol...  \n",
       "1    brother sister past incestuous relationship ...  \n",
       "2    bus empty student field trip Museum Natural ...  \n",
       "3    help unemployed father end meet Edith twin s...  \n",
       "4    film title refer un recover body ground zero...  "
      ]
     },
     "execution_count": 14,
     "metadata": {},
     "output_type": "execute_result"
    }
   ],
   "source": [
    "df_train.head()"
   ]
  },
  {
   "cell_type": "code",
   "execution_count": 49,
   "id": "1e42c4a1-e0db-46c1-9ce7-7c9de4b8f1c1",
   "metadata": {},
   "outputs": [],
   "source": [
    "from sklearn.model_selection import train_test_split\n",
    "from sklearn.naive_bayes import MultinomialNB\n",
    "from sklearn.pipeline import Pipeline\n",
    "from sklearn.linear_model import LogisticRegression"
   ]
  },
  {
   "cell_type": "markdown",
   "id": "b02065e3-4817-47ec-9d82-2cec6b0f48a1",
   "metadata": {},
   "source": [
    "### Splitting the dataset into train and test data"
   ]
  },
  {
   "cell_type": "code",
   "execution_count": 16,
   "id": "bc7bc15b-ce4d-4e6f-a0f6-74d4e006a358",
   "metadata": {},
   "outputs": [],
   "source": [
    "X_train, X_test, y_train, y_test = train_test_split(df_train.prepocessed_desc, df_train.encoded_labels, test_size=0.2, random_state=42, stratify= df_train.encoded_labels)"
   ]
  },
  {
   "cell_type": "markdown",
   "id": "0ea4bcda-d188-4ce7-8fb5-d3e49c2177ed",
   "metadata": {},
   "source": [
    "### Checking for class imbalance"
   ]
  },
  {
   "cell_type": "code",
   "execution_count": 17,
   "id": "bf2d5047-4535-4c5f-b9f7-d92812ae92a5",
   "metadata": {},
   "outputs": [
    {
     "data": {
      "text/plain": [
       "encoded_labels\n",
       "8     10890\n",
       "7     10477\n",
       "5      5957\n",
       "21     4058\n",
       "13     1763\n",
       "24     1273\n",
       "0      1052\n",
       "26      826\n",
       "18      707\n",
       "9       627\n",
       "2       620\n",
       "14      585\n",
       "19      538\n",
       "20      518\n",
       "1       472\n",
       "6       404\n",
       "3       398\n",
       "22      346\n",
       "23      313\n",
       "10      258\n",
       "16      255\n",
       "15      222\n",
       "4       212\n",
       "12      194\n",
       "11      155\n",
       "17      145\n",
       "25      106\n",
       "Name: count, dtype: int64"
      ]
     },
     "execution_count": 17,
     "metadata": {},
     "output_type": "execute_result"
    }
   ],
   "source": [
    "y_train.value_counts()"
   ]
  },
  {
   "cell_type": "code",
   "execution_count": 18,
   "id": "63ad56a7-ac86-4645-a205-c4a68f205c47",
   "metadata": {},
   "outputs": [
    {
     "data": {
      "text/plain": [
       "encoded_labels\n",
       "8     2723\n",
       "7     2619\n",
       "5     1490\n",
       "21    1015\n",
       "13     441\n",
       "24     318\n",
       "0      263\n",
       "26     206\n",
       "18     177\n",
       "9      157\n",
       "2      155\n",
       "14     146\n",
       "19     134\n",
       "20     129\n",
       "1      118\n",
       "6      101\n",
       "3      100\n",
       "22      86\n",
       "23      78\n",
       "10      65\n",
       "16      64\n",
       "15      55\n",
       "4       53\n",
       "12      49\n",
       "11      39\n",
       "17      36\n",
       "25      26\n",
       "Name: count, dtype: int64"
      ]
     },
     "execution_count": 18,
     "metadata": {},
     "output_type": "execute_result"
    }
   ],
   "source": [
    "y_test.value_counts()"
   ]
  },
  {
   "cell_type": "markdown",
   "id": "71942fce-1fa5-492d-9ad5-acefde753606",
   "metadata": {},
   "source": [
    "### Calculating class weights to manage the class imbalance in the dataset"
   ]
  },
  {
   "cell_type": "code",
   "execution_count": 19,
   "id": "7cf72e02-2c12-4189-88b1-d3583a53d6ba",
   "metadata": {},
   "outputs": [],
   "source": [
    "from sklearn.utils.class_weight import compute_class_weight\n",
    "class_weights = compute_class_weight('balanced', classes=np.unique(y_train), y=y_train)\n",
    "class_weight_dict = {i: class_weights[i] for i in range(len(class_weights))}"
   ]
  },
  {
   "cell_type": "markdown",
   "id": "b08aa085-9944-454d-8953-bbf4a0486e1d",
   "metadata": {},
   "source": [
    "### Using Pipeline to apply tfidf along with Multinomial naive bayes"
   ]
  },
  {
   "cell_type": "code",
   "execution_count": 20,
   "id": "63f57d25-aa5b-4f13-90c2-98a543c5ad8b",
   "metadata": {},
   "outputs": [],
   "source": [
    "from sklearn.feature_extraction.text import TfidfVectorizer\n",
    "pipeline = Pipeline([\n",
    "    ('tfidf', TfidfVectorizer()),\n",
    "    ('nb', MultinomialNB(class_prior=class_weights))\n",
    "])"
   ]
  },
  {
   "cell_type": "code",
   "execution_count": 21,
   "id": "354c41c8-b82a-4ae8-a28d-ece7af49b32a",
   "metadata": {},
   "outputs": [
    {
     "data": {
      "text/html": [
       "<style>#sk-container-id-1 {color: black;background-color: white;}#sk-container-id-1 pre{padding: 0;}#sk-container-id-1 div.sk-toggleable {background-color: white;}#sk-container-id-1 label.sk-toggleable__label {cursor: pointer;display: block;width: 100%;margin-bottom: 0;padding: 0.3em;box-sizing: border-box;text-align: center;}#sk-container-id-1 label.sk-toggleable__label-arrow:before {content: \"▸\";float: left;margin-right: 0.25em;color: #696969;}#sk-container-id-1 label.sk-toggleable__label-arrow:hover:before {color: black;}#sk-container-id-1 div.sk-estimator:hover label.sk-toggleable__label-arrow:before {color: black;}#sk-container-id-1 div.sk-toggleable__content {max-height: 0;max-width: 0;overflow: hidden;text-align: left;background-color: #f0f8ff;}#sk-container-id-1 div.sk-toggleable__content pre {margin: 0.2em;color: black;border-radius: 0.25em;background-color: #f0f8ff;}#sk-container-id-1 input.sk-toggleable__control:checked~div.sk-toggleable__content {max-height: 200px;max-width: 100%;overflow: auto;}#sk-container-id-1 input.sk-toggleable__control:checked~label.sk-toggleable__label-arrow:before {content: \"▾\";}#sk-container-id-1 div.sk-estimator input.sk-toggleable__control:checked~label.sk-toggleable__label {background-color: #d4ebff;}#sk-container-id-1 div.sk-label input.sk-toggleable__control:checked~label.sk-toggleable__label {background-color: #d4ebff;}#sk-container-id-1 input.sk-hidden--visually {border: 0;clip: rect(1px 1px 1px 1px);clip: rect(1px, 1px, 1px, 1px);height: 1px;margin: -1px;overflow: hidden;padding: 0;position: absolute;width: 1px;}#sk-container-id-1 div.sk-estimator {font-family: monospace;background-color: #f0f8ff;border: 1px dotted black;border-radius: 0.25em;box-sizing: border-box;margin-bottom: 0.5em;}#sk-container-id-1 div.sk-estimator:hover {background-color: #d4ebff;}#sk-container-id-1 div.sk-parallel-item::after {content: \"\";width: 100%;border-bottom: 1px solid gray;flex-grow: 1;}#sk-container-id-1 div.sk-label:hover label.sk-toggleable__label {background-color: #d4ebff;}#sk-container-id-1 div.sk-serial::before {content: \"\";position: absolute;border-left: 1px solid gray;box-sizing: border-box;top: 0;bottom: 0;left: 50%;z-index: 0;}#sk-container-id-1 div.sk-serial {display: flex;flex-direction: column;align-items: center;background-color: white;padding-right: 0.2em;padding-left: 0.2em;position: relative;}#sk-container-id-1 div.sk-item {position: relative;z-index: 1;}#sk-container-id-1 div.sk-parallel {display: flex;align-items: stretch;justify-content: center;background-color: white;position: relative;}#sk-container-id-1 div.sk-item::before, #sk-container-id-1 div.sk-parallel-item::before {content: \"\";position: absolute;border-left: 1px solid gray;box-sizing: border-box;top: 0;bottom: 0;left: 50%;z-index: -1;}#sk-container-id-1 div.sk-parallel-item {display: flex;flex-direction: column;z-index: 1;position: relative;background-color: white;}#sk-container-id-1 div.sk-parallel-item:first-child::after {align-self: flex-end;width: 50%;}#sk-container-id-1 div.sk-parallel-item:last-child::after {align-self: flex-start;width: 50%;}#sk-container-id-1 div.sk-parallel-item:only-child::after {width: 0;}#sk-container-id-1 div.sk-dashed-wrapped {border: 1px dashed gray;margin: 0 0.4em 0.5em 0.4em;box-sizing: border-box;padding-bottom: 0.4em;background-color: white;}#sk-container-id-1 div.sk-label label {font-family: monospace;font-weight: bold;display: inline-block;line-height: 1.2em;}#sk-container-id-1 div.sk-label-container {text-align: center;}#sk-container-id-1 div.sk-container {/* jupyter's `normalize.less` sets `[hidden] { display: none; }` but bootstrap.min.css set `[hidden] { display: none !important; }` so we also need the `!important` here to be able to override the default hidden behavior on the sphinx rendered scikit-learn.org. See: https://github.com/scikit-learn/scikit-learn/issues/21755 */display: inline-block !important;position: relative;}#sk-container-id-1 div.sk-text-repr-fallback {display: none;}</style><div id=\"sk-container-id-1\" class=\"sk-top-container\"><div class=\"sk-text-repr-fallback\"><pre>Pipeline(steps=[(&#x27;tfidf&#x27;, TfidfVectorizer()),\n",
       "                (&#x27;nb&#x27;,\n",
       "                 MultinomialNB(class_prior=array([ 1.52693283,  3.40324859,  2.59086022,  4.0360134 ,  7.57704403,\n",
       "        0.26965475,  3.97607261,  0.15331997,  0.14750536,  2.56193514,\n",
       "        6.22609819, 10.36344086,  8.28006873,  0.91113632,  2.74586895,\n",
       "        7.23573574,  6.29934641, 11.07816092,  2.27204149,  2.98574969,\n",
       "        3.1010296 ,  0.3958436 ,  4.64258189,  5.13205538,  1.26184865,\n",
       "       15.15408805,  1.94471348])))])</pre><b>In a Jupyter environment, please rerun this cell to show the HTML representation or trust the notebook. <br />On GitHub, the HTML representation is unable to render, please try loading this page with nbviewer.org.</b></div><div class=\"sk-container\" hidden><div class=\"sk-item sk-dashed-wrapped\"><div class=\"sk-label-container\"><div class=\"sk-label sk-toggleable\"><input class=\"sk-toggleable__control sk-hidden--visually\" id=\"sk-estimator-id-1\" type=\"checkbox\" ><label for=\"sk-estimator-id-1\" class=\"sk-toggleable__label sk-toggleable__label-arrow\">Pipeline</label><div class=\"sk-toggleable__content\"><pre>Pipeline(steps=[(&#x27;tfidf&#x27;, TfidfVectorizer()),\n",
       "                (&#x27;nb&#x27;,\n",
       "                 MultinomialNB(class_prior=array([ 1.52693283,  3.40324859,  2.59086022,  4.0360134 ,  7.57704403,\n",
       "        0.26965475,  3.97607261,  0.15331997,  0.14750536,  2.56193514,\n",
       "        6.22609819, 10.36344086,  8.28006873,  0.91113632,  2.74586895,\n",
       "        7.23573574,  6.29934641, 11.07816092,  2.27204149,  2.98574969,\n",
       "        3.1010296 ,  0.3958436 ,  4.64258189,  5.13205538,  1.26184865,\n",
       "       15.15408805,  1.94471348])))])</pre></div></div></div><div class=\"sk-serial\"><div class=\"sk-item\"><div class=\"sk-estimator sk-toggleable\"><input class=\"sk-toggleable__control sk-hidden--visually\" id=\"sk-estimator-id-2\" type=\"checkbox\" ><label for=\"sk-estimator-id-2\" class=\"sk-toggleable__label sk-toggleable__label-arrow\">TfidfVectorizer</label><div class=\"sk-toggleable__content\"><pre>TfidfVectorizer()</pre></div></div></div><div class=\"sk-item\"><div class=\"sk-estimator sk-toggleable\"><input class=\"sk-toggleable__control sk-hidden--visually\" id=\"sk-estimator-id-3\" type=\"checkbox\" ><label for=\"sk-estimator-id-3\" class=\"sk-toggleable__label sk-toggleable__label-arrow\">MultinomialNB</label><div class=\"sk-toggleable__content\"><pre>MultinomialNB(class_prior=array([ 1.52693283,  3.40324859,  2.59086022,  4.0360134 ,  7.57704403,\n",
       "        0.26965475,  3.97607261,  0.15331997,  0.14750536,  2.56193514,\n",
       "        6.22609819, 10.36344086,  8.28006873,  0.91113632,  2.74586895,\n",
       "        7.23573574,  6.29934641, 11.07816092,  2.27204149,  2.98574969,\n",
       "        3.1010296 ,  0.3958436 ,  4.64258189,  5.13205538,  1.26184865,\n",
       "       15.15408805,  1.94471348]))</pre></div></div></div></div></div></div></div>"
      ],
      "text/plain": [
       "Pipeline(steps=[('tfidf', TfidfVectorizer()),\n",
       "                ('nb',\n",
       "                 MultinomialNB(class_prior=array([ 1.52693283,  3.40324859,  2.59086022,  4.0360134 ,  7.57704403,\n",
       "        0.26965475,  3.97607261,  0.15331997,  0.14750536,  2.56193514,\n",
       "        6.22609819, 10.36344086,  8.28006873,  0.91113632,  2.74586895,\n",
       "        7.23573574,  6.29934641, 11.07816092,  2.27204149,  2.98574969,\n",
       "        3.1010296 ,  0.3958436 ,  4.64258189,  5.13205538,  1.26184865,\n",
       "       15.15408805,  1.94471348])))])"
      ]
     },
     "execution_count": 21,
     "metadata": {},
     "output_type": "execute_result"
    }
   ],
   "source": [
    "pipeline.fit(X_train,y_train)"
   ]
  },
  {
   "cell_type": "code",
   "execution_count": 22,
   "id": "71649f73-cf21-4d35-856b-b7bda7d8e719",
   "metadata": {},
   "outputs": [],
   "source": [
    "y_pred= pipeline.predict(X_test)"
   ]
  },
  {
   "cell_type": "code",
   "execution_count": 23,
   "id": "a08555e5-65d8-4e35-8c6d-6b0850ed7cdb",
   "metadata": {},
   "outputs": [],
   "source": [
    "from sklearn.metrics import classification_report\n",
    "from sklearn.metrics import accuracy_score"
   ]
  },
  {
   "cell_type": "markdown",
   "id": "e458c961-f3d8-4bcd-b75f-af83e9a97468",
   "metadata": {},
   "source": [
    "### Printing classification report for Naive Bayes model"
   ]
  },
  {
   "cell_type": "code",
   "execution_count": 24,
   "id": "3acf5ddf-c2f4-4ae1-a51a-8d8f506d036b",
   "metadata": {},
   "outputs": [
    {
     "name": "stdout",
     "output_type": "stream",
     "text": [
      "              precision    recall  f1-score   support\n",
      "\n",
      "           0       0.44      0.02      0.03       263\n",
      "           1       0.44      0.10      0.17       118\n",
      "           2       0.73      0.05      0.10       155\n",
      "           3       0.50      0.02      0.04       100\n",
      "           4       0.00      0.00      0.00        53\n",
      "           5       0.57      0.29      0.38      1490\n",
      "           6       0.00      0.00      0.00       101\n",
      "           7       0.54      0.89      0.67      2619\n",
      "           8       0.44      0.82      0.57      2723\n",
      "           9       1.00      0.01      0.01       157\n",
      "          10       0.33      0.02      0.03        65\n",
      "          11       0.53      0.23      0.32        39\n",
      "          12       0.00      0.00      0.00        49\n",
      "          13       0.72      0.18      0.28       441\n",
      "          14       0.62      0.11      0.19       146\n",
      "          15       0.67      0.04      0.07        55\n",
      "          16       0.00      0.00      0.00        64\n",
      "          17       0.00      0.00      0.00        36\n",
      "          18       0.33      0.01      0.01       177\n",
      "          19       0.67      0.01      0.03       134\n",
      "          20       0.47      0.05      0.10       129\n",
      "          21       0.74      0.07      0.12      1015\n",
      "          22       0.57      0.15      0.24        86\n",
      "          23       1.00      0.01      0.03        78\n",
      "          24       0.50      0.01      0.02       318\n",
      "          25       0.01      0.04      0.01        26\n",
      "          26       0.93      0.42      0.58       206\n",
      "\n",
      "    accuracy                           0.49     10843\n",
      "   macro avg       0.47      0.13      0.15     10843\n",
      "weighted avg       0.54      0.49      0.40     10843\n",
      "\n"
     ]
    }
   ],
   "source": [
    "print(classification_report(y_test,y_pred,zero_division=0))"
   ]
  },
  {
   "cell_type": "code",
   "execution_count": 25,
   "id": "0f2a7dc9-6886-4868-813e-386b860e06e5",
   "metadata": {},
   "outputs": [
    {
     "data": {
      "text/plain": [
       "0.49045467121645303"
      ]
     },
     "execution_count": 25,
     "metadata": {},
     "output_type": "execute_result"
    }
   ],
   "source": [
    "accuracy_score(y_test,y_pred)"
   ]
  },
  {
   "cell_type": "markdown",
   "id": "4a9f4f1f-a951-46f8-b240-72d473202b56",
   "metadata": {},
   "source": [
    "### Creating pipeline to apply tfidf and Logistic Regression"
   ]
  },
  {
   "cell_type": "code",
   "execution_count": 26,
   "id": "fa28ff56-6bfe-4999-89ab-11815af79691",
   "metadata": {},
   "outputs": [],
   "source": [
    "pipeline2 = Pipeline([\n",
    "    ('tfidf', TfidfVectorizer()),\n",
    "    ('logistic', LogisticRegression(max_iter=1000, class_weight='balanced'))\n",
    "])"
   ]
  },
  {
   "cell_type": "code",
   "execution_count": 27,
   "id": "25e3aea2-03b8-4c06-85bb-86043ddbf59b",
   "metadata": {},
   "outputs": [
    {
     "data": {
      "text/html": [
       "<style>#sk-container-id-2 {color: black;background-color: white;}#sk-container-id-2 pre{padding: 0;}#sk-container-id-2 div.sk-toggleable {background-color: white;}#sk-container-id-2 label.sk-toggleable__label {cursor: pointer;display: block;width: 100%;margin-bottom: 0;padding: 0.3em;box-sizing: border-box;text-align: center;}#sk-container-id-2 label.sk-toggleable__label-arrow:before {content: \"▸\";float: left;margin-right: 0.25em;color: #696969;}#sk-container-id-2 label.sk-toggleable__label-arrow:hover:before {color: black;}#sk-container-id-2 div.sk-estimator:hover label.sk-toggleable__label-arrow:before {color: black;}#sk-container-id-2 div.sk-toggleable__content {max-height: 0;max-width: 0;overflow: hidden;text-align: left;background-color: #f0f8ff;}#sk-container-id-2 div.sk-toggleable__content pre {margin: 0.2em;color: black;border-radius: 0.25em;background-color: #f0f8ff;}#sk-container-id-2 input.sk-toggleable__control:checked~div.sk-toggleable__content {max-height: 200px;max-width: 100%;overflow: auto;}#sk-container-id-2 input.sk-toggleable__control:checked~label.sk-toggleable__label-arrow:before {content: \"▾\";}#sk-container-id-2 div.sk-estimator input.sk-toggleable__control:checked~label.sk-toggleable__label {background-color: #d4ebff;}#sk-container-id-2 div.sk-label input.sk-toggleable__control:checked~label.sk-toggleable__label {background-color: #d4ebff;}#sk-container-id-2 input.sk-hidden--visually {border: 0;clip: rect(1px 1px 1px 1px);clip: rect(1px, 1px, 1px, 1px);height: 1px;margin: -1px;overflow: hidden;padding: 0;position: absolute;width: 1px;}#sk-container-id-2 div.sk-estimator {font-family: monospace;background-color: #f0f8ff;border: 1px dotted black;border-radius: 0.25em;box-sizing: border-box;margin-bottom: 0.5em;}#sk-container-id-2 div.sk-estimator:hover {background-color: #d4ebff;}#sk-container-id-2 div.sk-parallel-item::after {content: \"\";width: 100%;border-bottom: 1px solid gray;flex-grow: 1;}#sk-container-id-2 div.sk-label:hover label.sk-toggleable__label {background-color: #d4ebff;}#sk-container-id-2 div.sk-serial::before {content: \"\";position: absolute;border-left: 1px solid gray;box-sizing: border-box;top: 0;bottom: 0;left: 50%;z-index: 0;}#sk-container-id-2 div.sk-serial {display: flex;flex-direction: column;align-items: center;background-color: white;padding-right: 0.2em;padding-left: 0.2em;position: relative;}#sk-container-id-2 div.sk-item {position: relative;z-index: 1;}#sk-container-id-2 div.sk-parallel {display: flex;align-items: stretch;justify-content: center;background-color: white;position: relative;}#sk-container-id-2 div.sk-item::before, #sk-container-id-2 div.sk-parallel-item::before {content: \"\";position: absolute;border-left: 1px solid gray;box-sizing: border-box;top: 0;bottom: 0;left: 50%;z-index: -1;}#sk-container-id-2 div.sk-parallel-item {display: flex;flex-direction: column;z-index: 1;position: relative;background-color: white;}#sk-container-id-2 div.sk-parallel-item:first-child::after {align-self: flex-end;width: 50%;}#sk-container-id-2 div.sk-parallel-item:last-child::after {align-self: flex-start;width: 50%;}#sk-container-id-2 div.sk-parallel-item:only-child::after {width: 0;}#sk-container-id-2 div.sk-dashed-wrapped {border: 1px dashed gray;margin: 0 0.4em 0.5em 0.4em;box-sizing: border-box;padding-bottom: 0.4em;background-color: white;}#sk-container-id-2 div.sk-label label {font-family: monospace;font-weight: bold;display: inline-block;line-height: 1.2em;}#sk-container-id-2 div.sk-label-container {text-align: center;}#sk-container-id-2 div.sk-container {/* jupyter's `normalize.less` sets `[hidden] { display: none; }` but bootstrap.min.css set `[hidden] { display: none !important; }` so we also need the `!important` here to be able to override the default hidden behavior on the sphinx rendered scikit-learn.org. See: https://github.com/scikit-learn/scikit-learn/issues/21755 */display: inline-block !important;position: relative;}#sk-container-id-2 div.sk-text-repr-fallback {display: none;}</style><div id=\"sk-container-id-2\" class=\"sk-top-container\"><div class=\"sk-text-repr-fallback\"><pre>Pipeline(steps=[(&#x27;tfidf&#x27;, TfidfVectorizer()),\n",
       "                (&#x27;logistic&#x27;,\n",
       "                 LogisticRegression(class_weight=&#x27;balanced&#x27;, max_iter=1000))])</pre><b>In a Jupyter environment, please rerun this cell to show the HTML representation or trust the notebook. <br />On GitHub, the HTML representation is unable to render, please try loading this page with nbviewer.org.</b></div><div class=\"sk-container\" hidden><div class=\"sk-item sk-dashed-wrapped\"><div class=\"sk-label-container\"><div class=\"sk-label sk-toggleable\"><input class=\"sk-toggleable__control sk-hidden--visually\" id=\"sk-estimator-id-4\" type=\"checkbox\" ><label for=\"sk-estimator-id-4\" class=\"sk-toggleable__label sk-toggleable__label-arrow\">Pipeline</label><div class=\"sk-toggleable__content\"><pre>Pipeline(steps=[(&#x27;tfidf&#x27;, TfidfVectorizer()),\n",
       "                (&#x27;logistic&#x27;,\n",
       "                 LogisticRegression(class_weight=&#x27;balanced&#x27;, max_iter=1000))])</pre></div></div></div><div class=\"sk-serial\"><div class=\"sk-item\"><div class=\"sk-estimator sk-toggleable\"><input class=\"sk-toggleable__control sk-hidden--visually\" id=\"sk-estimator-id-5\" type=\"checkbox\" ><label for=\"sk-estimator-id-5\" class=\"sk-toggleable__label sk-toggleable__label-arrow\">TfidfVectorizer</label><div class=\"sk-toggleable__content\"><pre>TfidfVectorizer()</pre></div></div></div><div class=\"sk-item\"><div class=\"sk-estimator sk-toggleable\"><input class=\"sk-toggleable__control sk-hidden--visually\" id=\"sk-estimator-id-6\" type=\"checkbox\" ><label for=\"sk-estimator-id-6\" class=\"sk-toggleable__label sk-toggleable__label-arrow\">LogisticRegression</label><div class=\"sk-toggleable__content\"><pre>LogisticRegression(class_weight=&#x27;balanced&#x27;, max_iter=1000)</pre></div></div></div></div></div></div></div>"
      ],
      "text/plain": [
       "Pipeline(steps=[('tfidf', TfidfVectorizer()),\n",
       "                ('logistic',\n",
       "                 LogisticRegression(class_weight='balanced', max_iter=1000))])"
      ]
     },
     "execution_count": 27,
     "metadata": {},
     "output_type": "execute_result"
    }
   ],
   "source": [
    "pipeline2.fit(X_train,y_train)"
   ]
  },
  {
   "cell_type": "code",
   "execution_count": 28,
   "id": "218f5248-d042-4b8d-860a-cfd1543ee022",
   "metadata": {},
   "outputs": [],
   "source": [
    "y_pred2= pipeline2.predict(X_test)"
   ]
  },
  {
   "cell_type": "markdown",
   "id": "06b59ac0-89f9-4fa8-a3f5-3fa11ae23fc1",
   "metadata": {},
   "source": [
    "### Printing classification report for Logistic Regression model"
   ]
  },
  {
   "cell_type": "code",
   "execution_count": 29,
   "id": "c5b215a1-d92a-4ede-8259-4a4928aec63c",
   "metadata": {},
   "outputs": [
    {
     "name": "stdout",
     "output_type": "stream",
     "text": [
      "              precision    recall  f1-score   support\n",
      "\n",
      "           0       0.32      0.48      0.38       263\n",
      "           1       0.40      0.74      0.52       118\n",
      "           2       0.22      0.34      0.26       155\n",
      "           3       0.22      0.30      0.25       100\n",
      "           4       0.05      0.08      0.06        53\n",
      "           5       0.61      0.47      0.53      1490\n",
      "           6       0.15      0.35      0.21       101\n",
      "           7       0.78      0.59      0.67      2619\n",
      "           8       0.70      0.41      0.51      2723\n",
      "           9       0.17      0.37      0.23       157\n",
      "          10       0.14      0.26      0.18        65\n",
      "          11       0.65      0.67      0.66        39\n",
      "          12       0.10      0.24      0.14        49\n",
      "          13       0.59      0.67      0.63       441\n",
      "          14       0.37      0.82      0.51       146\n",
      "          15       0.10      0.18      0.13        55\n",
      "          16       0.12      0.17      0.14        64\n",
      "          17       0.18      0.25      0.21        36\n",
      "          18       0.30      0.55      0.38       177\n",
      "          19       0.14      0.51      0.21       134\n",
      "          20       0.30      0.62      0.40       129\n",
      "          21       0.44      0.37      0.41      1015\n",
      "          22       0.36      0.88      0.51        86\n",
      "          23       0.29      0.59      0.39        78\n",
      "          24       0.26      0.38      0.31       318\n",
      "          25       0.19      0.58      0.29        26\n",
      "          26       0.74      0.88      0.80       206\n",
      "\n",
      "    accuracy                           0.49     10843\n",
      "   macro avg       0.33      0.47      0.37     10843\n",
      "weighted avg       0.58      0.49      0.51     10843\n",
      "\n"
     ]
    }
   ],
   "source": [
    "print(classification_report(y_test,y_pred2,zero_division=0))"
   ]
  },
  {
   "cell_type": "code",
   "execution_count": 30,
   "id": "63ed3e6b-a83f-4b16-bc56-e953ab5f5b43",
   "metadata": {},
   "outputs": [
    {
     "data": {
      "text/plain": [
       "0.48907129023333024"
      ]
     },
     "execution_count": 30,
     "metadata": {},
     "output_type": "execute_result"
    }
   ],
   "source": [
    "accuracy_score(y_test,y_pred2)"
   ]
  },
  {
   "cell_type": "markdown",
   "id": "613f2e8d-b8bb-4363-9e73-9c72064e72f8",
   "metadata": {},
   "source": [
    "### Reading the test dataset provided"
   ]
  },
  {
   "cell_type": "code",
   "execution_count": 50,
   "id": "4c81cc0e-eb25-4362-ba0a-daeac956397b",
   "metadata": {},
   "outputs": [],
   "source": [
    "df_test= pd.read_table('Downloads/archive (3)/Genre Classification Dataset/test_data.txt', sep=':::', header= None, names=['serial','name','desc'], engine='python')"
   ]
  },
  {
   "cell_type": "code",
   "execution_count": 32,
   "id": "a89a992c-f34e-4a2a-ac46-4c3dd5f8e567",
   "metadata": {},
   "outputs": [
    {
     "data": {
      "text/html": [
       "<div>\n",
       "<style scoped>\n",
       "    .dataframe tbody tr th:only-of-type {\n",
       "        vertical-align: middle;\n",
       "    }\n",
       "\n",
       "    .dataframe tbody tr th {\n",
       "        vertical-align: top;\n",
       "    }\n",
       "\n",
       "    .dataframe thead th {\n",
       "        text-align: right;\n",
       "    }\n",
       "</style>\n",
       "<table border=\"1\" class=\"dataframe\">\n",
       "  <thead>\n",
       "    <tr style=\"text-align: right;\">\n",
       "      <th></th>\n",
       "      <th>serial</th>\n",
       "      <th>name</th>\n",
       "      <th>desc</th>\n",
       "    </tr>\n",
       "  </thead>\n",
       "  <tbody>\n",
       "    <tr>\n",
       "      <th>0</th>\n",
       "      <td>1</td>\n",
       "      <td>Edgar's Lunch (1998)</td>\n",
       "      <td>L.R. Brane loves his life - his car, his apar...</td>\n",
       "    </tr>\n",
       "    <tr>\n",
       "      <th>1</th>\n",
       "      <td>2</td>\n",
       "      <td>La guerra de papá (1977)</td>\n",
       "      <td>Spain, March 1964: Quico is a very naughty ch...</td>\n",
       "    </tr>\n",
       "    <tr>\n",
       "      <th>2</th>\n",
       "      <td>3</td>\n",
       "      <td>Off the Beaten Track (2010)</td>\n",
       "      <td>One year in the life of Albin and his family ...</td>\n",
       "    </tr>\n",
       "    <tr>\n",
       "      <th>3</th>\n",
       "      <td>4</td>\n",
       "      <td>Meu Amigo Hindu (2015)</td>\n",
       "      <td>His father has died, he hasn't spoken with hi...</td>\n",
       "    </tr>\n",
       "    <tr>\n",
       "      <th>4</th>\n",
       "      <td>5</td>\n",
       "      <td>Er nu zhai (1955)</td>\n",
       "      <td>Before he was known internationally as a mart...</td>\n",
       "    </tr>\n",
       "  </tbody>\n",
       "</table>\n",
       "</div>"
      ],
      "text/plain": [
       "   serial                           name  \\\n",
       "0       1          Edgar's Lunch (1998)    \n",
       "1       2      La guerra de papá (1977)    \n",
       "2       3   Off the Beaten Track (2010)    \n",
       "3       4        Meu Amigo Hindu (2015)    \n",
       "4       5             Er nu zhai (1955)    \n",
       "\n",
       "                                                desc  \n",
       "0   L.R. Brane loves his life - his car, his apar...  \n",
       "1   Spain, March 1964: Quico is a very naughty ch...  \n",
       "2   One year in the life of Albin and his family ...  \n",
       "3   His father has died, he hasn't spoken with hi...  \n",
       "4   Before he was known internationally as a mart...  "
      ]
     },
     "execution_count": 32,
     "metadata": {},
     "output_type": "execute_result"
    }
   ],
   "source": [
    "df_test.head()"
   ]
  },
  {
   "cell_type": "code",
   "execution_count": 33,
   "id": "9f4196c8-f631-4394-8e91-ebb019e3e242",
   "metadata": {},
   "outputs": [],
   "source": [
    "df_test['prepocessed_desc']= df_test.desc.apply(preprocessing)"
   ]
  },
  {
   "cell_type": "code",
   "execution_count": null,
   "id": "32496d72-22a6-4e8d-8bc8-d2d2601f0e4b",
   "metadata": {},
   "outputs": [],
   "source": [
    "df_test.head()"
   ]
  },
  {
   "cell_type": "code",
   "execution_count": 35,
   "id": "7e02ef65-63a6-4e16-a22c-b64e8f70974d",
   "metadata": {},
   "outputs": [],
   "source": [
    "X_test_new= df_test.prepocessed_desc"
   ]
  },
  {
   "cell_type": "markdown",
   "id": "6dccd2a3-33ae-449a-83a0-1437386d8e0c",
   "metadata": {},
   "source": [
    "### Applying Naive Bayes model to the test data"
   ]
  },
  {
   "cell_type": "code",
   "execution_count": 39,
   "id": "64df9a9a-15b9-44d1-be3c-3a8b28c5ec5e",
   "metadata": {},
   "outputs": [],
   "source": [
    "y_pred_new= pipeline.predict(X_test_new)"
   ]
  },
  {
   "cell_type": "markdown",
   "id": "7b5009b0-6c0b-49d7-bc4f-8a9ad9854d3c",
   "metadata": {},
   "source": [
    "### Applying Logistic Regression Model to the test data"
   ]
  },
  {
   "cell_type": "code",
   "execution_count": 38,
   "id": "e43a6d89-c76a-473d-8d92-006206b563a3",
   "metadata": {},
   "outputs": [],
   "source": [
    "y_pred2_new= pipeline2.predict(X_test_new)"
   ]
  },
  {
   "cell_type": "markdown",
   "id": "1f536909-7fea-4c63-ac8b-57f824f7d230",
   "metadata": {},
   "source": [
    "### Importing the test data solutions"
   ]
  },
  {
   "cell_type": "code",
   "execution_count": 40,
   "id": "451606d2-5367-4bdf-b135-0148f5445a32",
   "metadata": {},
   "outputs": [],
   "source": [
    "df_sol= pd.read_csv('Downloads/archive (3)/Genre Classification Dataset/test_data_solution.txt',sep=\":::\", header= None, names= column_names, engine='python' )"
   ]
  },
  {
   "cell_type": "code",
   "execution_count": 42,
   "id": "a2b57380-0eba-404e-9a84-c14a907e5a98",
   "metadata": {},
   "outputs": [
    {
     "data": {
      "text/plain": [
       "0            thriller \n",
       "1              comedy \n",
       "2         documentary \n",
       "3               drama \n",
       "4               drama \n",
       "             ...      \n",
       "54195          horror \n",
       "54196         western \n",
       "54197           adult \n",
       "54198           drama \n",
       "54199           drama \n",
       "Name: genre, Length: 54200, dtype: object"
      ]
     },
     "execution_count": 42,
     "metadata": {},
     "output_type": "execute_result"
    }
   ],
   "source": [
    "df_sol.genre"
   ]
  },
  {
   "cell_type": "markdown",
   "id": "002019f2-bb4c-4f0c-a804-0b9c6ea8aef1",
   "metadata": {},
   "source": [
    "### Applying label encoding to the test data labels"
   ]
  },
  {
   "cell_type": "code",
   "execution_count": 45,
   "id": "1f6a6ca9-5496-4362-be6e-6d139aeeceb2",
   "metadata": {},
   "outputs": [],
   "source": [
    "df_sol['encoded_labels']= label_encoder.transform(df_sol.genre)"
   ]
  },
  {
   "cell_type": "markdown",
   "id": "32c4c31d-9ac1-47ad-bcb3-229929b6338d",
   "metadata": {},
   "source": [
    "### Printing the accuracy scores & classification report for the respective models"
   ]
  },
  {
   "cell_type": "code",
   "execution_count": 52,
   "id": "282276cd-bdbb-40de-8252-5805ebf9e8a4",
   "metadata": {},
   "outputs": [
    {
     "data": {
      "text/plain": [
       "0.4918819188191882"
      ]
     },
     "execution_count": 52,
     "metadata": {},
     "output_type": "execute_result"
    }
   ],
   "source": [
    "accuracy_score(df_sol.encoded_labels, y_pred_new) #Naive Bayes accuracy"
   ]
  },
  {
   "cell_type": "code",
   "execution_count": 51,
   "id": "2b39f0be-bd68-4125-8213-7bebb98f06ff",
   "metadata": {},
   "outputs": [
    {
     "data": {
      "text/plain": [
       "0.48677121771217713"
      ]
     },
     "execution_count": 51,
     "metadata": {},
     "output_type": "execute_result"
    }
   ],
   "source": [
    "accuracy_score(df_sol.encoded_labels, y_pred2_new) #Logistic Regression Accuracy"
   ]
  },
  {
   "cell_type": "code",
   "execution_count": 57,
   "id": "74fe4245-1c3a-440a-9d6e-ef105a4da3c5",
   "metadata": {},
   "outputs": [
    {
     "name": "stdout",
     "output_type": "stream",
     "text": [
      "              precision    recall  f1-score   support\n",
      "\n",
      "           0       0.62      0.05      0.09      1314\n",
      "           1       0.53      0.11      0.18       590\n",
      "           2       0.83      0.07      0.12       775\n",
      "           3       0.67      0.02      0.03       498\n",
      "           4       0.00      0.00      0.00       264\n",
      "           5       0.58      0.29      0.39      7446\n",
      "           6       0.17      0.00      0.00       505\n",
      "           7       0.54      0.88      0.67     13096\n",
      "           8       0.43      0.82      0.57     13612\n",
      "           9       0.62      0.01      0.01       783\n",
      "          10       0.44      0.02      0.04       322\n",
      "          11       0.47      0.30      0.36       193\n",
      "          12       0.00      0.00      0.00       243\n",
      "          13       0.68      0.20      0.30      2204\n",
      "          14       0.63      0.12      0.21       731\n",
      "          15       0.15      0.02      0.03       276\n",
      "          16       0.50      0.01      0.02       318\n",
      "          17       0.09      0.05      0.06       181\n",
      "          18       0.48      0.01      0.02       883\n",
      "          19       0.50      0.01      0.02       672\n",
      "          20       0.56      0.05      0.09       646\n",
      "          21       0.74      0.06      0.11      5072\n",
      "          22       0.71      0.18      0.29       431\n",
      "          23       0.36      0.02      0.04       391\n",
      "          24       0.35      0.01      0.01      1590\n",
      "          25       0.01      0.08      0.02       132\n",
      "          26       0.94      0.50      0.65      1032\n",
      "\n",
      "    accuracy                           0.49     54200\n",
      "   macro avg       0.47      0.14      0.16     54200\n",
      "weighted avg       0.54      0.49      0.41     54200\n",
      "\n"
     ]
    }
   ],
   "source": [
    "print(classification_report(df_sol.encoded_labels,y_pred_new,zero_division=0)) #Naive Bayes classification report"
   ]
  },
  {
   "cell_type": "code",
   "execution_count": 54,
   "id": "aae9692c-4ea1-440a-ae9d-2ffe03f6b8a9",
   "metadata": {},
   "outputs": [
    {
     "name": "stdout",
     "output_type": "stream",
     "text": [
      "              precision    recall  f1-score   support\n",
      "\n",
      "           0       0.31      0.49      0.38      1314\n",
      "           1       0.36      0.66      0.46       590\n",
      "           2       0.24      0.35      0.28       775\n",
      "           3       0.21      0.28      0.24       498\n",
      "           4       0.05      0.09      0.07       264\n",
      "           5       0.59      0.46      0.52      7446\n",
      "           6       0.15      0.34      0.21       505\n",
      "           7       0.78      0.59      0.67     13096\n",
      "           8       0.70      0.41      0.52     13612\n",
      "           9       0.16      0.33      0.21       783\n",
      "          10       0.15      0.28      0.19       322\n",
      "          11       0.62      0.74      0.68       193\n",
      "          12       0.10      0.24      0.14       243\n",
      "          13       0.56      0.67      0.61      2204\n",
      "          14       0.36      0.74      0.48       731\n",
      "          15       0.16      0.30      0.21       276\n",
      "          16       0.12      0.18      0.14       318\n",
      "          17       0.22      0.29      0.25       181\n",
      "          18       0.28      0.52      0.36       883\n",
      "          19       0.13      0.49      0.21       672\n",
      "          20       0.29      0.57      0.38       646\n",
      "          21       0.44      0.38      0.41      5072\n",
      "          22       0.32      0.73      0.45       431\n",
      "          23       0.29      0.54      0.37       391\n",
      "          24       0.26      0.34      0.30      1590\n",
      "          25       0.16      0.57      0.25       132\n",
      "          26       0.72      0.90      0.80      1032\n",
      "\n",
      "    accuracy                           0.49     54200\n",
      "   macro avg       0.32      0.46      0.36     54200\n",
      "weighted avg       0.58      0.49      0.51     54200\n",
      "\n"
     ]
    }
   ],
   "source": [
    "print(classification_report(df_sol.encoded_labels,y_pred2_new,zero_division=0)) # Logistic Regression "
   ]
  },
  {
   "cell_type": "code",
   "execution_count": null,
   "id": "44aadf57-bcf4-4425-a51f-b3289cc19128",
   "metadata": {},
   "outputs": [],
   "source": []
  }
 ],
 "metadata": {
  "kernelspec": {
   "display_name": "Python 3 (ipykernel)",
   "language": "python",
   "name": "python3"
  },
  "language_info": {
   "codemirror_mode": {
    "name": "ipython",
    "version": 3
   },
   "file_extension": ".py",
   "mimetype": "text/x-python",
   "name": "python",
   "nbconvert_exporter": "python",
   "pygments_lexer": "ipython3",
   "version": "3.11.7"
  }
 },
 "nbformat": 4,
 "nbformat_minor": 5
}
