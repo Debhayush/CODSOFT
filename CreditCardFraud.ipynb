{
 "cells": [
  {
   "cell_type": "markdown",
   "id": "ba66094b-d4be-4b69-93da-dd6d097ed17f",
   "metadata": {},
   "source": [
    "### Importing required libraries"
   ]
  },
  {
   "cell_type": "code",
   "execution_count": 4,
   "id": "20c29191-54ff-44e2-b133-9db609cc0aa0",
   "metadata": {},
   "outputs": [],
   "source": [
    "import pandas as pd\n",
    "import numpy as np\n",
    "import matplotlib.pyplot as plt\n",
    "import seaborn as sns"
   ]
  },
  {
   "cell_type": "markdown",
   "id": "dd191f11-26f3-4f65-9911-6b37af12a36f",
   "metadata": {},
   "source": [
    "### Reading the dataset"
   ]
  },
  {
   "cell_type": "code",
   "execution_count": 5,
   "id": "774f3252-481d-445e-b5d9-bae07bdf29d8",
   "metadata": {},
   "outputs": [],
   "source": [
    "df= pd.read_csv('Downloads/CreditCardFraudDataset/fraudTrain.csv')"
   ]
  },
  {
   "cell_type": "code",
   "execution_count": 47,
   "id": "06736082-85ca-407b-8c1f-035f2bd2f613",
   "metadata": {},
   "outputs": [],
   "source": [
    "from sklearn.preprocessing import StandardScaler, OneHotEncoder\n",
    "from sklearn.compose import ColumnTransformer\n",
    "from sklearn.pipeline import Pipeline\n",
    "from sklearn.model_selection import train_test_split\n",
    "from sklearn.decomposition import TruncatedSVD\n",
    "from sklearn.ensemble import RandomForestClassifier"
   ]
  },
  {
   "cell_type": "markdown",
   "id": "e0633c6e-390f-43e4-a99a-e5c7b6ecde07",
   "metadata": {},
   "source": [
    "### Dropping the columns which are not necessary"
   ]
  },
  {
   "cell_type": "code",
   "execution_count": 7,
   "id": "549486cc-931f-47f1-a7de-906c7c71a952",
   "metadata": {},
   "outputs": [],
   "source": [
    "df = df.drop(columns=['trans_date_trans_time', 'first', 'last', 'dob'])"
   ]
  },
  {
   "cell_type": "code",
   "execution_count": 8,
   "id": "3f956b2c-df2d-42c8-8fa4-ef17ee7d8280",
   "metadata": {},
   "outputs": [],
   "source": [
    "df= df.drop(['Unnamed: 0'], axis=1)"
   ]
  },
  {
   "cell_type": "code",
   "execution_count": 9,
   "id": "cb28d4e8-eb4a-43ff-ad6c-af2f126f541e",
   "metadata": {},
   "outputs": [],
   "source": [
    "df= df.drop(['street'],axis=1)"
   ]
  },
  {
   "cell_type": "markdown",
   "id": "7b65addf-8637-4c3e-980e-70c5e354e8d3",
   "metadata": {},
   "source": [
    "### Seperating the amount and unixtime features"
   ]
  },
  {
   "cell_type": "code",
   "execution_count": 10,
   "id": "66552b4d-321d-462c-8607-0f045f996d9e",
   "metadata": {},
   "outputs": [
    {
     "name": "stdout",
     "output_type": "stream",
     "text": [
      "0            4.97\n",
      "1          107.23\n",
      "2          220.11\n",
      "3           45.00\n",
      "4           41.96\n",
      "            ...  \n",
      "1296670     15.56\n",
      "1296671     51.70\n",
      "1296672    105.93\n",
      "1296673     74.90\n",
      "1296674      4.30\n",
      "Name: amt, Length: 1296675, dtype: float64\n",
      "0          1325376018\n",
      "1          1325376044\n",
      "2          1325376051\n",
      "3          1325376076\n",
      "4          1325376186\n",
      "              ...    \n",
      "1296670    1371816728\n",
      "1296671    1371816739\n",
      "1296672    1371816752\n",
      "1296673    1371816816\n",
      "1296674    1371816817\n",
      "Name: unix_time, Length: 1296675, dtype: int64\n"
     ]
    }
   ],
   "source": [
    "amt= df.amt\n",
    "time= df.unix_time\n",
    "print(amt)\n",
    "print(time)"
   ]
  },
  {
   "cell_type": "code",
   "execution_count": 11,
   "id": "c268e508-cbb5-4072-bf6f-63eb4fabd649",
   "metadata": {},
   "outputs": [],
   "source": [
    "df = df.drop(['amt','unix_time'],axis= 1)"
   ]
  },
  {
   "cell_type": "markdown",
   "id": "1b4b3d05-2ac1-4b9f-9dac-5fdb85532e19",
   "metadata": {},
   "source": [
    "### Generalising locations in a few clusters using the latitude and longitude"
   ]
  },
  {
   "cell_type": "code",
   "execution_count": 12,
   "id": "45c9e716-3929-4c74-8648-463fef00016b",
   "metadata": {},
   "outputs": [],
   "source": [
    "from sklearn.cluster import KMeans\n",
    "kmeans = KMeans(n_clusters= 10, n_init=10, random_state=0)\n",
    "df['location_cluster'] = kmeans.fit_predict(df[['lat', 'long']])"
   ]
  },
  {
   "cell_type": "code",
   "execution_count": 13,
   "id": "f78b9469-fda1-473d-8a20-d5136d3946c3",
   "metadata": {},
   "outputs": [],
   "source": [
    "df['merch_cluster'] = kmeans.fit_predict(df[['merch_lat', 'merch_long']])"
   ]
  },
  {
   "cell_type": "code",
   "execution_count": 14,
   "id": "ad5bab07-5f47-449d-915a-5280d2d9527f",
   "metadata": {},
   "outputs": [],
   "source": [
    "df= df.drop(['lat','long','merch_lat','merch_long','zip'],axis=1)"
   ]
  },
  {
   "cell_type": "markdown",
   "id": "d7fa5b03-d288-43fa-aba9-de0347e8f5bc",
   "metadata": {},
   "source": [
    "### Converting the categorical data into numerical values using one hot encoding and scaling the numerical values"
   ]
  },
  {
   "cell_type": "code",
   "execution_count": 15,
   "id": "fdeb44fa-5b4b-4937-8368-5d53b4418ac4",
   "metadata": {},
   "outputs": [],
   "source": [
    "numerical_features = ['cc_num', 'location_cluster', 'city_pop', 'merch_cluster']\n",
    "categorical_features = ['merchant', 'category', 'gender', 'city', 'state', 'job']"
   ]
  },
  {
   "cell_type": "code",
   "execution_count": 16,
   "id": "dffe69db-b152-4a8b-b24e-f7f6d9c5ca9a",
   "metadata": {},
   "outputs": [],
   "source": [
    "preprocessor = ColumnTransformer(\n",
    "    transformers=[\n",
    "        ('num', StandardScaler(), numerical_features),\n",
    "        ('cat', OneHotEncoder(handle_unknown='ignore', sparse_output=True), categorical_features)\n",
    "    ]\n",
    ")"
   ]
  },
  {
   "cell_type": "markdown",
   "id": "ebacef23-63d8-42ed-a4d7-5e07adb60365",
   "metadata": {},
   "source": [
    "### Using TruncatedSVD to reduce the dimensionality of the data"
   ]
  },
  {
   "cell_type": "code",
   "execution_count": 17,
   "id": "f676d302-5373-4ec6-9ef0-81f2a3a1efcc",
   "metadata": {},
   "outputs": [],
   "source": [
    "pipeline = Pipeline(steps=[\n",
    "    ('preprocessor', preprocessor),\n",
    "    ('svd', TruncatedSVD(n_components=10))\n",
    "])"
   ]
  },
  {
   "cell_type": "code",
   "execution_count": 18,
   "id": "8b63d7cb-583b-4836-84ff-0520cb1c9cc8",
   "metadata": {},
   "outputs": [
    {
     "data": {
      "text/plain": [
       "Index(['cc_num', 'merchant', 'category', 'gender', 'city', 'state', 'city_pop',\n",
       "       'job', 'trans_num', 'is_fraud', 'location_cluster', 'merch_cluster'],\n",
       "      dtype='object')"
      ]
     },
     "execution_count": 18,
     "metadata": {},
     "output_type": "execute_result"
    }
   ],
   "source": [
    "df.columns"
   ]
  },
  {
   "cell_type": "code",
   "execution_count": 19,
   "id": "5a67b63a-e9ca-441e-8a0c-2f9738b46c25",
   "metadata": {},
   "outputs": [
    {
     "data": {
      "text/plain": [
       "0          0\n",
       "1          0\n",
       "2          0\n",
       "3          0\n",
       "4          0\n",
       "          ..\n",
       "1296670    0\n",
       "1296671    0\n",
       "1296672    0\n",
       "1296673    0\n",
       "1296674    0\n",
       "Name: is_fraud, Length: 1296675, dtype: int64"
      ]
     },
     "execution_count": 19,
     "metadata": {},
     "output_type": "execute_result"
    }
   ],
   "source": [
    "X = df.drop(columns=['is_fraud'])\n",
    "y= df.is_fraud\n",
    "y"
   ]
  },
  {
   "cell_type": "code",
   "execution_count": 20,
   "id": "60de3c80-8456-407d-b382-247634565758",
   "metadata": {},
   "outputs": [],
   "source": [
    "X_transformed = pipeline.fit_transform(X)"
   ]
  },
  {
   "cell_type": "code",
   "execution_count": 21,
   "id": "12d0ae1f-f5c8-44b9-8500-a2fb9267054f",
   "metadata": {},
   "outputs": [],
   "source": [
    "X_df = pd.DataFrame(X_transformed, columns =['A', 'B', 'C','D','E','F','G','H','I','J']) "
   ]
  },
  {
   "cell_type": "code",
   "execution_count": 22,
   "id": "b6668f84-e63d-4a61-a405-b5357cb224e6",
   "metadata": {},
   "outputs": [
    {
     "data": {
      "text/html": [
       "<div>\n",
       "<style scoped>\n",
       "    .dataframe tbody tr th:only-of-type {\n",
       "        vertical-align: middle;\n",
       "    }\n",
       "\n",
       "    .dataframe tbody tr th {\n",
       "        vertical-align: top;\n",
       "    }\n",
       "\n",
       "    .dataframe thead th {\n",
       "        text-align: right;\n",
       "    }\n",
       "</style>\n",
       "<table border=\"1\" class=\"dataframe\">\n",
       "  <thead>\n",
       "    <tr style=\"text-align: right;\">\n",
       "      <th></th>\n",
       "      <th>A</th>\n",
       "      <th>B</th>\n",
       "      <th>C</th>\n",
       "      <th>D</th>\n",
       "      <th>E</th>\n",
       "      <th>F</th>\n",
       "      <th>G</th>\n",
       "      <th>H</th>\n",
       "      <th>I</th>\n",
       "      <th>J</th>\n",
       "    </tr>\n",
       "  </thead>\n",
       "  <tbody>\n",
       "    <tr>\n",
       "      <th>0</th>\n",
       "      <td>-0.341352</td>\n",
       "      <td>0.066327</td>\n",
       "      <td>-0.377181</td>\n",
       "      <td>0.181117</td>\n",
       "      <td>0.938180</td>\n",
       "      <td>-0.426240</td>\n",
       "      <td>-0.041996</td>\n",
       "      <td>0.000146</td>\n",
       "      <td>0.024995</td>\n",
       "      <td>0.016138</td>\n",
       "    </tr>\n",
       "    <tr>\n",
       "      <th>1</th>\n",
       "      <td>0.167444</td>\n",
       "      <td>0.273538</td>\n",
       "      <td>-0.306785</td>\n",
       "      <td>2.183077</td>\n",
       "      <td>0.814753</td>\n",
       "      <td>-0.164137</td>\n",
       "      <td>-0.291387</td>\n",
       "      <td>0.734769</td>\n",
       "      <td>-0.470323</td>\n",
       "      <td>-0.132892</td>\n",
       "    </tr>\n",
       "    <tr>\n",
       "      <th>2</th>\n",
       "      <td>-0.179536</td>\n",
       "      <td>-0.252651</td>\n",
       "      <td>-0.524438</td>\n",
       "      <td>-1.710298</td>\n",
       "      <td>0.596478</td>\n",
       "      <td>0.723280</td>\n",
       "      <td>-0.045646</td>\n",
       "      <td>-0.006737</td>\n",
       "      <td>0.087411</td>\n",
       "      <td>0.054188</td>\n",
       "    </tr>\n",
       "    <tr>\n",
       "      <th>3</th>\n",
       "      <td>-0.182254</td>\n",
       "      <td>-0.271962</td>\n",
       "      <td>-0.529536</td>\n",
       "      <td>-1.724030</td>\n",
       "      <td>0.649395</td>\n",
       "      <td>0.733093</td>\n",
       "      <td>0.914755</td>\n",
       "      <td>0.021365</td>\n",
       "      <td>-0.138939</td>\n",
       "      <td>-0.078086</td>\n",
       "    </tr>\n",
       "    <tr>\n",
       "      <th>4</th>\n",
       "      <td>-0.429869</td>\n",
       "      <td>0.011488</td>\n",
       "      <td>-0.421105</td>\n",
       "      <td>-0.002056</td>\n",
       "      <td>0.466678</td>\n",
       "      <td>0.908959</td>\n",
       "      <td>-0.037459</td>\n",
       "      <td>-0.002347</td>\n",
       "      <td>0.060107</td>\n",
       "      <td>0.025042</td>\n",
       "    </tr>\n",
       "  </tbody>\n",
       "</table>\n",
       "</div>"
      ],
      "text/plain": [
       "          A         B         C         D         E         F         G  \\\n",
       "0 -0.341352  0.066327 -0.377181  0.181117  0.938180 -0.426240 -0.041996   \n",
       "1  0.167444  0.273538 -0.306785  2.183077  0.814753 -0.164137 -0.291387   \n",
       "2 -0.179536 -0.252651 -0.524438 -1.710298  0.596478  0.723280 -0.045646   \n",
       "3 -0.182254 -0.271962 -0.529536 -1.724030  0.649395  0.733093  0.914755   \n",
       "4 -0.429869  0.011488 -0.421105 -0.002056  0.466678  0.908959 -0.037459   \n",
       "\n",
       "          H         I         J  \n",
       "0  0.000146  0.024995  0.016138  \n",
       "1  0.734769 -0.470323 -0.132892  \n",
       "2 -0.006737  0.087411  0.054188  \n",
       "3  0.021365 -0.138939 -0.078086  \n",
       "4 -0.002347  0.060107  0.025042  "
      ]
     },
     "execution_count": 22,
     "metadata": {},
     "output_type": "execute_result"
    }
   ],
   "source": [
    "X_df.head()"
   ]
  },
  {
   "cell_type": "markdown",
   "id": "a1ad9b8c-270e-4ee1-8a13-c6ed89f93f54",
   "metadata": {},
   "source": [
    "### Concatenating the transformed data with the amount and time previously separated"
   ]
  },
  {
   "cell_type": "code",
   "execution_count": 23,
   "id": "d46a1e4b-30f1-46ba-88f8-87a92118b170",
   "metadata": {},
   "outputs": [],
   "source": [
    "X_df= pd.concat([X_df,amt,time],axis=1)"
   ]
  },
  {
   "cell_type": "code",
   "execution_count": 24,
   "id": "96f4ddc7-502b-4f32-af63-25fd2c3e5fd3",
   "metadata": {},
   "outputs": [
    {
     "data": {
      "text/html": [
       "<div>\n",
       "<style scoped>\n",
       "    .dataframe tbody tr th:only-of-type {\n",
       "        vertical-align: middle;\n",
       "    }\n",
       "\n",
       "    .dataframe tbody tr th {\n",
       "        vertical-align: top;\n",
       "    }\n",
       "\n",
       "    .dataframe thead th {\n",
       "        text-align: right;\n",
       "    }\n",
       "</style>\n",
       "<table border=\"1\" class=\"dataframe\">\n",
       "  <thead>\n",
       "    <tr style=\"text-align: right;\">\n",
       "      <th></th>\n",
       "      <th>A</th>\n",
       "      <th>B</th>\n",
       "      <th>C</th>\n",
       "      <th>D</th>\n",
       "      <th>E</th>\n",
       "      <th>F</th>\n",
       "      <th>G</th>\n",
       "      <th>H</th>\n",
       "      <th>I</th>\n",
       "      <th>J</th>\n",
       "      <th>amt</th>\n",
       "      <th>unix_time</th>\n",
       "      <th>is_fraud</th>\n",
       "    </tr>\n",
       "  </thead>\n",
       "  <tbody>\n",
       "    <tr>\n",
       "      <th>0</th>\n",
       "      <td>-0.341352</td>\n",
       "      <td>0.066327</td>\n",
       "      <td>-0.377181</td>\n",
       "      <td>0.181117</td>\n",
       "      <td>0.938180</td>\n",
       "      <td>-0.426240</td>\n",
       "      <td>-0.041996</td>\n",
       "      <td>0.000146</td>\n",
       "      <td>0.024995</td>\n",
       "      <td>0.016138</td>\n",
       "      <td>4.97</td>\n",
       "      <td>1325376018</td>\n",
       "      <td>0</td>\n",
       "    </tr>\n",
       "    <tr>\n",
       "      <th>1</th>\n",
       "      <td>0.167444</td>\n",
       "      <td>0.273538</td>\n",
       "      <td>-0.306785</td>\n",
       "      <td>2.183077</td>\n",
       "      <td>0.814753</td>\n",
       "      <td>-0.164137</td>\n",
       "      <td>-0.291387</td>\n",
       "      <td>0.734769</td>\n",
       "      <td>-0.470323</td>\n",
       "      <td>-0.132892</td>\n",
       "      <td>107.23</td>\n",
       "      <td>1325376044</td>\n",
       "      <td>0</td>\n",
       "    </tr>\n",
       "    <tr>\n",
       "      <th>2</th>\n",
       "      <td>-0.179536</td>\n",
       "      <td>-0.252651</td>\n",
       "      <td>-0.524438</td>\n",
       "      <td>-1.710298</td>\n",
       "      <td>0.596478</td>\n",
       "      <td>0.723280</td>\n",
       "      <td>-0.045646</td>\n",
       "      <td>-0.006737</td>\n",
       "      <td>0.087411</td>\n",
       "      <td>0.054188</td>\n",
       "      <td>220.11</td>\n",
       "      <td>1325376051</td>\n",
       "      <td>0</td>\n",
       "    </tr>\n",
       "    <tr>\n",
       "      <th>3</th>\n",
       "      <td>-0.182254</td>\n",
       "      <td>-0.271962</td>\n",
       "      <td>-0.529536</td>\n",
       "      <td>-1.724030</td>\n",
       "      <td>0.649395</td>\n",
       "      <td>0.733093</td>\n",
       "      <td>0.914755</td>\n",
       "      <td>0.021365</td>\n",
       "      <td>-0.138939</td>\n",
       "      <td>-0.078086</td>\n",
       "      <td>45.00</td>\n",
       "      <td>1325376076</td>\n",
       "      <td>0</td>\n",
       "    </tr>\n",
       "    <tr>\n",
       "      <th>4</th>\n",
       "      <td>-0.429869</td>\n",
       "      <td>0.011488</td>\n",
       "      <td>-0.421105</td>\n",
       "      <td>-0.002056</td>\n",
       "      <td>0.466678</td>\n",
       "      <td>0.908959</td>\n",
       "      <td>-0.037459</td>\n",
       "      <td>-0.002347</td>\n",
       "      <td>0.060107</td>\n",
       "      <td>0.025042</td>\n",
       "      <td>41.96</td>\n",
       "      <td>1325376186</td>\n",
       "      <td>0</td>\n",
       "    </tr>\n",
       "  </tbody>\n",
       "</table>\n",
       "</div>"
      ],
      "text/plain": [
       "          A         B         C         D         E         F         G  \\\n",
       "0 -0.341352  0.066327 -0.377181  0.181117  0.938180 -0.426240 -0.041996   \n",
       "1  0.167444  0.273538 -0.306785  2.183077  0.814753 -0.164137 -0.291387   \n",
       "2 -0.179536 -0.252651 -0.524438 -1.710298  0.596478  0.723280 -0.045646   \n",
       "3 -0.182254 -0.271962 -0.529536 -1.724030  0.649395  0.733093  0.914755   \n",
       "4 -0.429869  0.011488 -0.421105 -0.002056  0.466678  0.908959 -0.037459   \n",
       "\n",
       "          H         I         J     amt   unix_time  is_fraud  \n",
       "0  0.000146  0.024995  0.016138    4.97  1325376018         0  \n",
       "1  0.734769 -0.470323 -0.132892  107.23  1325376044         0  \n",
       "2 -0.006737  0.087411  0.054188  220.11  1325376051         0  \n",
       "3  0.021365 -0.138939 -0.078086   45.00  1325376076         0  \n",
       "4 -0.002347  0.060107  0.025042   41.96  1325376186         0  "
      ]
     },
     "execution_count": 24,
     "metadata": {},
     "output_type": "execute_result"
    }
   ],
   "source": [
    "X_df= pd.concat([X_df,y], axis=1)\n",
    "X_df.head()"
   ]
  },
  {
   "cell_type": "markdown",
   "id": "15eb6279-5584-454c-acd4-c83ae71effa5",
   "metadata": {},
   "source": [
    "### Seperating the legit and fraud transactions"
   ]
  },
  {
   "cell_type": "code",
   "execution_count": 25,
   "id": "70d3479b-9673-4eaf-8058-1829d5716cbb",
   "metadata": {},
   "outputs": [],
   "source": [
    "legit= X_df[X_df.is_fraud==0]\n",
    "fraud= X_df[X_df.is_fraud==1]"
   ]
  },
  {
   "cell_type": "code",
   "execution_count": 26,
   "id": "abbad46e-a7b7-4aed-8d2b-0a6282f8c1db",
   "metadata": {},
   "outputs": [
    {
     "data": {
      "text/plain": [
       "(7506, 13)"
      ]
     },
     "execution_count": 26,
     "metadata": {},
     "output_type": "execute_result"
    }
   ],
   "source": [
    "fraud.shape"
   ]
  },
  {
   "cell_type": "code",
   "execution_count": 27,
   "id": "aec54761-329b-426b-ba8d-9e2709626194",
   "metadata": {},
   "outputs": [
    {
     "data": {
      "text/html": [
       "<div>\n",
       "<style scoped>\n",
       "    .dataframe tbody tr th:only-of-type {\n",
       "        vertical-align: middle;\n",
       "    }\n",
       "\n",
       "    .dataframe tbody tr th {\n",
       "        vertical-align: top;\n",
       "    }\n",
       "\n",
       "    .dataframe thead th {\n",
       "        text-align: right;\n",
       "    }\n",
       "</style>\n",
       "<table border=\"1\" class=\"dataframe\">\n",
       "  <thead>\n",
       "    <tr style=\"text-align: right;\">\n",
       "      <th></th>\n",
       "      <th>A</th>\n",
       "      <th>B</th>\n",
       "      <th>C</th>\n",
       "      <th>D</th>\n",
       "      <th>E</th>\n",
       "      <th>F</th>\n",
       "      <th>G</th>\n",
       "      <th>H</th>\n",
       "      <th>I</th>\n",
       "      <th>J</th>\n",
       "      <th>amt</th>\n",
       "      <th>unix_time</th>\n",
       "      <th>is_fraud</th>\n",
       "    </tr>\n",
       "  </thead>\n",
       "  <tbody>\n",
       "    <tr>\n",
       "      <th>0</th>\n",
       "      <td>-0.341352</td>\n",
       "      <td>0.066327</td>\n",
       "      <td>-0.377181</td>\n",
       "      <td>0.181117</td>\n",
       "      <td>0.938180</td>\n",
       "      <td>-0.426240</td>\n",
       "      <td>-0.041996</td>\n",
       "      <td>0.000146</td>\n",
       "      <td>0.024995</td>\n",
       "      <td>0.016138</td>\n",
       "      <td>4.97</td>\n",
       "      <td>1325376018</td>\n",
       "      <td>0</td>\n",
       "    </tr>\n",
       "    <tr>\n",
       "      <th>1</th>\n",
       "      <td>0.167444</td>\n",
       "      <td>0.273538</td>\n",
       "      <td>-0.306785</td>\n",
       "      <td>2.183077</td>\n",
       "      <td>0.814753</td>\n",
       "      <td>-0.164137</td>\n",
       "      <td>-0.291387</td>\n",
       "      <td>0.734769</td>\n",
       "      <td>-0.470323</td>\n",
       "      <td>-0.132892</td>\n",
       "      <td>107.23</td>\n",
       "      <td>1325376044</td>\n",
       "      <td>0</td>\n",
       "    </tr>\n",
       "    <tr>\n",
       "      <th>2</th>\n",
       "      <td>-0.179536</td>\n",
       "      <td>-0.252651</td>\n",
       "      <td>-0.524438</td>\n",
       "      <td>-1.710298</td>\n",
       "      <td>0.596478</td>\n",
       "      <td>0.723280</td>\n",
       "      <td>-0.045646</td>\n",
       "      <td>-0.006737</td>\n",
       "      <td>0.087411</td>\n",
       "      <td>0.054188</td>\n",
       "      <td>220.11</td>\n",
       "      <td>1325376051</td>\n",
       "      <td>0</td>\n",
       "    </tr>\n",
       "    <tr>\n",
       "      <th>3</th>\n",
       "      <td>-0.182254</td>\n",
       "      <td>-0.271962</td>\n",
       "      <td>-0.529536</td>\n",
       "      <td>-1.724030</td>\n",
       "      <td>0.649395</td>\n",
       "      <td>0.733093</td>\n",
       "      <td>0.914755</td>\n",
       "      <td>0.021365</td>\n",
       "      <td>-0.138939</td>\n",
       "      <td>-0.078086</td>\n",
       "      <td>45.00</td>\n",
       "      <td>1325376076</td>\n",
       "      <td>0</td>\n",
       "    </tr>\n",
       "    <tr>\n",
       "      <th>4</th>\n",
       "      <td>-0.429869</td>\n",
       "      <td>0.011488</td>\n",
       "      <td>-0.421105</td>\n",
       "      <td>-0.002056</td>\n",
       "      <td>0.466678</td>\n",
       "      <td>0.908959</td>\n",
       "      <td>-0.037459</td>\n",
       "      <td>-0.002347</td>\n",
       "      <td>0.060107</td>\n",
       "      <td>0.025042</td>\n",
       "      <td>41.96</td>\n",
       "      <td>1325376186</td>\n",
       "      <td>0</td>\n",
       "    </tr>\n",
       "    <tr>\n",
       "      <th>...</th>\n",
       "      <td>...</td>\n",
       "      <td>...</td>\n",
       "      <td>...</td>\n",
       "      <td>...</td>\n",
       "      <td>...</td>\n",
       "      <td>...</td>\n",
       "      <td>...</td>\n",
       "      <td>...</td>\n",
       "      <td>...</td>\n",
       "      <td>...</td>\n",
       "      <td>...</td>\n",
       "      <td>...</td>\n",
       "      <td>...</td>\n",
       "    </tr>\n",
       "    <tr>\n",
       "      <th>1296670</th>\n",
       "      <td>-0.179286</td>\n",
       "      <td>-0.266319</td>\n",
       "      <td>-0.531071</td>\n",
       "      <td>-1.735327</td>\n",
       "      <td>0.609826</td>\n",
       "      <td>0.721613</td>\n",
       "      <td>-0.041733</td>\n",
       "      <td>-0.006900</td>\n",
       "      <td>0.088294</td>\n",
       "      <td>0.052759</td>\n",
       "      <td>15.56</td>\n",
       "      <td>1371816728</td>\n",
       "      <td>0</td>\n",
       "    </tr>\n",
       "    <tr>\n",
       "      <th>1296671</th>\n",
       "      <td>-0.421786</td>\n",
       "      <td>0.006434</td>\n",
       "      <td>-0.418182</td>\n",
       "      <td>-0.004690</td>\n",
       "      <td>0.473957</td>\n",
       "      <td>0.909136</td>\n",
       "      <td>-0.041060</td>\n",
       "      <td>-0.011717</td>\n",
       "      <td>0.068797</td>\n",
       "      <td>0.073882</td>\n",
       "      <td>51.70</td>\n",
       "      <td>1371816739</td>\n",
       "      <td>0</td>\n",
       "    </tr>\n",
       "    <tr>\n",
       "      <th>1296672</th>\n",
       "      <td>-0.177181</td>\n",
       "      <td>-0.274495</td>\n",
       "      <td>-0.525370</td>\n",
       "      <td>-1.748647</td>\n",
       "      <td>0.617079</td>\n",
       "      <td>0.721693</td>\n",
       "      <td>-0.038169</td>\n",
       "      <td>-0.011573</td>\n",
       "      <td>0.072332</td>\n",
       "      <td>0.072232</td>\n",
       "      <td>105.93</td>\n",
       "      <td>1371816752</td>\n",
       "      <td>0</td>\n",
       "    </tr>\n",
       "    <tr>\n",
       "      <th>1296673</th>\n",
       "      <td>-0.179066</td>\n",
       "      <td>-0.262928</td>\n",
       "      <td>-0.532089</td>\n",
       "      <td>-1.721854</td>\n",
       "      <td>0.605016</td>\n",
       "      <td>0.720152</td>\n",
       "      <td>-0.043244</td>\n",
       "      <td>-0.012121</td>\n",
       "      <td>0.071517</td>\n",
       "      <td>0.073438</td>\n",
       "      <td>74.90</td>\n",
       "      <td>1371816816</td>\n",
       "      <td>0</td>\n",
       "    </tr>\n",
       "    <tr>\n",
       "      <th>1296674</th>\n",
       "      <td>-0.052427</td>\n",
       "      <td>-1.819112</td>\n",
       "      <td>2.231299</td>\n",
       "      <td>2.088579</td>\n",
       "      <td>0.282319</td>\n",
       "      <td>1.148907</td>\n",
       "      <td>-0.039907</td>\n",
       "      <td>-0.012847</td>\n",
       "      <td>0.072089</td>\n",
       "      <td>0.077803</td>\n",
       "      <td>4.30</td>\n",
       "      <td>1371816817</td>\n",
       "      <td>0</td>\n",
       "    </tr>\n",
       "  </tbody>\n",
       "</table>\n",
       "<p>1289169 rows × 13 columns</p>\n",
       "</div>"
      ],
      "text/plain": [
       "                A         B         C         D         E         F         G  \\\n",
       "0       -0.341352  0.066327 -0.377181  0.181117  0.938180 -0.426240 -0.041996   \n",
       "1        0.167444  0.273538 -0.306785  2.183077  0.814753 -0.164137 -0.291387   \n",
       "2       -0.179536 -0.252651 -0.524438 -1.710298  0.596478  0.723280 -0.045646   \n",
       "3       -0.182254 -0.271962 -0.529536 -1.724030  0.649395  0.733093  0.914755   \n",
       "4       -0.429869  0.011488 -0.421105 -0.002056  0.466678  0.908959 -0.037459   \n",
       "...           ...       ...       ...       ...       ...       ...       ...   \n",
       "1296670 -0.179286 -0.266319 -0.531071 -1.735327  0.609826  0.721613 -0.041733   \n",
       "1296671 -0.421786  0.006434 -0.418182 -0.004690  0.473957  0.909136 -0.041060   \n",
       "1296672 -0.177181 -0.274495 -0.525370 -1.748647  0.617079  0.721693 -0.038169   \n",
       "1296673 -0.179066 -0.262928 -0.532089 -1.721854  0.605016  0.720152 -0.043244   \n",
       "1296674 -0.052427 -1.819112  2.231299  2.088579  0.282319  1.148907 -0.039907   \n",
       "\n",
       "                H         I         J     amt   unix_time  is_fraud  \n",
       "0        0.000146  0.024995  0.016138    4.97  1325376018         0  \n",
       "1        0.734769 -0.470323 -0.132892  107.23  1325376044         0  \n",
       "2       -0.006737  0.087411  0.054188  220.11  1325376051         0  \n",
       "3        0.021365 -0.138939 -0.078086   45.00  1325376076         0  \n",
       "4       -0.002347  0.060107  0.025042   41.96  1325376186         0  \n",
       "...           ...       ...       ...     ...         ...       ...  \n",
       "1296670 -0.006900  0.088294  0.052759   15.56  1371816728         0  \n",
       "1296671 -0.011717  0.068797  0.073882   51.70  1371816739         0  \n",
       "1296672 -0.011573  0.072332  0.072232  105.93  1371816752         0  \n",
       "1296673 -0.012121  0.071517  0.073438   74.90  1371816816         0  \n",
       "1296674 -0.012847  0.072089  0.077803    4.30  1371816817         0  \n",
       "\n",
       "[1289169 rows x 13 columns]"
      ]
     },
     "execution_count": 27,
     "metadata": {},
     "output_type": "execute_result"
    }
   ],
   "source": [
    "legit"
   ]
  },
  {
   "cell_type": "markdown",
   "id": "7c596b72-7635-450e-9e99-673c0bbf9c87",
   "metadata": {},
   "source": [
    "### Resampling the data of legit transactions in order to prevent class imbalanace"
   ]
  },
  {
   "cell_type": "code",
   "execution_count": 28,
   "id": "ea248331-27db-4291-8e51-c49fba318527",
   "metadata": {},
   "outputs": [],
   "source": [
    "legit_random_sample= legit.sample(7506)"
   ]
  },
  {
   "cell_type": "code",
   "execution_count": 29,
   "id": "a3d0d1b1-cf15-4f4d-a519-74a8216ea106",
   "metadata": {},
   "outputs": [
    {
     "data": {
      "text/html": [
       "<div>\n",
       "<style scoped>\n",
       "    .dataframe tbody tr th:only-of-type {\n",
       "        vertical-align: middle;\n",
       "    }\n",
       "\n",
       "    .dataframe tbody tr th {\n",
       "        vertical-align: top;\n",
       "    }\n",
       "\n",
       "    .dataframe thead th {\n",
       "        text-align: right;\n",
       "    }\n",
       "</style>\n",
       "<table border=\"1\" class=\"dataframe\">\n",
       "  <thead>\n",
       "    <tr style=\"text-align: right;\">\n",
       "      <th></th>\n",
       "      <th>A</th>\n",
       "      <th>B</th>\n",
       "      <th>C</th>\n",
       "      <th>D</th>\n",
       "      <th>E</th>\n",
       "      <th>F</th>\n",
       "      <th>G</th>\n",
       "      <th>H</th>\n",
       "      <th>I</th>\n",
       "      <th>J</th>\n",
       "      <th>amt</th>\n",
       "      <th>unix_time</th>\n",
       "      <th>is_fraud</th>\n",
       "    </tr>\n",
       "  </thead>\n",
       "  <tbody>\n",
       "    <tr>\n",
       "      <th>114310</th>\n",
       "      <td>1.897597</td>\n",
       "      <td>-0.408023</td>\n",
       "      <td>-0.601743</td>\n",
       "      <td>-0.798008</td>\n",
       "      <td>0.498138</td>\n",
       "      <td>0.928397</td>\n",
       "      <td>-0.025778</td>\n",
       "      <td>-0.004132</td>\n",
       "      <td>0.029958</td>\n",
       "      <td>0.024349</td>\n",
       "      <td>484.41</td>\n",
       "      <td>1330975828</td>\n",
       "      <td>0</td>\n",
       "    </tr>\n",
       "    <tr>\n",
       "      <th>1006710</th>\n",
       "      <td>-1.886908</td>\n",
       "      <td>0.219311</td>\n",
       "      <td>-0.324516</td>\n",
       "      <td>-0.327234</td>\n",
       "      <td>1.090620</td>\n",
       "      <td>-0.522286</td>\n",
       "      <td>-0.136183</td>\n",
       "      <td>-0.037015</td>\n",
       "      <td>0.616737</td>\n",
       "      <td>-0.613393</td>\n",
       "      <td>5.08</td>\n",
       "      <td>1361118812</td>\n",
       "      <td>0</td>\n",
       "    </tr>\n",
       "    <tr>\n",
       "      <th>1198722</th>\n",
       "      <td>0.165219</td>\n",
       "      <td>0.274588</td>\n",
       "      <td>-0.300392</td>\n",
       "      <td>2.175636</td>\n",
       "      <td>0.781601</td>\n",
       "      <td>-0.174715</td>\n",
       "      <td>-0.060004</td>\n",
       "      <td>-0.003250</td>\n",
       "      <td>0.073094</td>\n",
       "      <td>0.065862</td>\n",
       "      <td>4.64</td>\n",
       "      <td>1368703729</td>\n",
       "      <td>0</td>\n",
       "    </tr>\n",
       "    <tr>\n",
       "      <th>856011</th>\n",
       "      <td>-1.823505</td>\n",
       "      <td>0.516948</td>\n",
       "      <td>-0.056391</td>\n",
       "      <td>-0.381417</td>\n",
       "      <td>1.049501</td>\n",
       "      <td>-0.527206</td>\n",
       "      <td>-0.042637</td>\n",
       "      <td>-0.003314</td>\n",
       "      <td>0.055271</td>\n",
       "      <td>0.065353</td>\n",
       "      <td>71.82</td>\n",
       "      <td>1355662980</td>\n",
       "      <td>0</td>\n",
       "    </tr>\n",
       "    <tr>\n",
       "      <th>1232721</th>\n",
       "      <td>-0.940143</td>\n",
       "      <td>0.078978</td>\n",
       "      <td>-0.390719</td>\n",
       "      <td>0.007284</td>\n",
       "      <td>0.499656</td>\n",
       "      <td>0.880457</td>\n",
       "      <td>-0.047703</td>\n",
       "      <td>-0.006292</td>\n",
       "      <td>0.089877</td>\n",
       "      <td>0.056134</td>\n",
       "      <td>66.25</td>\n",
       "      <td>1369856930</td>\n",
       "      <td>0</td>\n",
       "    </tr>\n",
       "    <tr>\n",
       "      <th>...</th>\n",
       "      <td>...</td>\n",
       "      <td>...</td>\n",
       "      <td>...</td>\n",
       "      <td>...</td>\n",
       "      <td>...</td>\n",
       "      <td>...</td>\n",
       "      <td>...</td>\n",
       "      <td>...</td>\n",
       "      <td>...</td>\n",
       "      <td>...</td>\n",
       "      <td>...</td>\n",
       "      <td>...</td>\n",
       "      <td>...</td>\n",
       "    </tr>\n",
       "    <tr>\n",
       "      <th>434206</th>\n",
       "      <td>0.905385</td>\n",
       "      <td>-0.000352</td>\n",
       "      <td>-0.413278</td>\n",
       "      <td>0.932589</td>\n",
       "      <td>0.884999</td>\n",
       "      <td>-0.269953</td>\n",
       "      <td>-0.049409</td>\n",
       "      <td>-0.002099</td>\n",
       "      <td>0.061242</td>\n",
       "      <td>0.054816</td>\n",
       "      <td>3.58</td>\n",
       "      <td>1342194578</td>\n",
       "      <td>0</td>\n",
       "    </tr>\n",
       "    <tr>\n",
       "      <th>546361</th>\n",
       "      <td>-0.429463</td>\n",
       "      <td>0.166361</td>\n",
       "      <td>-0.324327</td>\n",
       "      <td>0.522437</td>\n",
       "      <td>0.458370</td>\n",
       "      <td>0.958772</td>\n",
       "      <td>-0.030112</td>\n",
       "      <td>-0.008162</td>\n",
       "      <td>0.031094</td>\n",
       "      <td>0.025697</td>\n",
       "      <td>58.39</td>\n",
       "      <td>1345606806</td>\n",
       "      <td>0</td>\n",
       "    </tr>\n",
       "    <tr>\n",
       "      <th>1198531</th>\n",
       "      <td>-0.492000</td>\n",
       "      <td>-1.989716</td>\n",
       "      <td>2.194289</td>\n",
       "      <td>0.317885</td>\n",
       "      <td>1.005433</td>\n",
       "      <td>-0.397223</td>\n",
       "      <td>0.919676</td>\n",
       "      <td>0.020349</td>\n",
       "      <td>-0.156644</td>\n",
       "      <td>-0.069042</td>\n",
       "      <td>52.54</td>\n",
       "      <td>1368692878</td>\n",
       "      <td>0</td>\n",
       "    </tr>\n",
       "    <tr>\n",
       "      <th>357492</th>\n",
       "      <td>-1.223961</td>\n",
       "      <td>-1.963762</td>\n",
       "      <td>2.433624</td>\n",
       "      <td>0.569624</td>\n",
       "      <td>0.930163</td>\n",
       "      <td>-0.418308</td>\n",
       "      <td>-0.035069</td>\n",
       "      <td>-0.002513</td>\n",
       "      <td>0.042965</td>\n",
       "      <td>0.030685</td>\n",
       "      <td>115.69</td>\n",
       "      <td>1339825240</td>\n",
       "      <td>0</td>\n",
       "    </tr>\n",
       "    <tr>\n",
       "      <th>227671</th>\n",
       "      <td>-1.937684</td>\n",
       "      <td>0.167391</td>\n",
       "      <td>-0.343737</td>\n",
       "      <td>-0.492157</td>\n",
       "      <td>0.609545</td>\n",
       "      <td>0.778828</td>\n",
       "      <td>-0.134534</td>\n",
       "      <td>-0.031964</td>\n",
       "      <td>0.640939</td>\n",
       "      <td>-0.622489</td>\n",
       "      <td>9.42</td>\n",
       "      <td>1335342473</td>\n",
       "      <td>0</td>\n",
       "    </tr>\n",
       "  </tbody>\n",
       "</table>\n",
       "<p>7506 rows × 13 columns</p>\n",
       "</div>"
      ],
      "text/plain": [
       "                A         B         C         D         E         F         G  \\\n",
       "114310   1.897597 -0.408023 -0.601743 -0.798008  0.498138  0.928397 -0.025778   \n",
       "1006710 -1.886908  0.219311 -0.324516 -0.327234  1.090620 -0.522286 -0.136183   \n",
       "1198722  0.165219  0.274588 -0.300392  2.175636  0.781601 -0.174715 -0.060004   \n",
       "856011  -1.823505  0.516948 -0.056391 -0.381417  1.049501 -0.527206 -0.042637   \n",
       "1232721 -0.940143  0.078978 -0.390719  0.007284  0.499656  0.880457 -0.047703   \n",
       "...           ...       ...       ...       ...       ...       ...       ...   \n",
       "434206   0.905385 -0.000352 -0.413278  0.932589  0.884999 -0.269953 -0.049409   \n",
       "546361  -0.429463  0.166361 -0.324327  0.522437  0.458370  0.958772 -0.030112   \n",
       "1198531 -0.492000 -1.989716  2.194289  0.317885  1.005433 -0.397223  0.919676   \n",
       "357492  -1.223961 -1.963762  2.433624  0.569624  0.930163 -0.418308 -0.035069   \n",
       "227671  -1.937684  0.167391 -0.343737 -0.492157  0.609545  0.778828 -0.134534   \n",
       "\n",
       "                H         I         J     amt   unix_time  is_fraud  \n",
       "114310  -0.004132  0.029958  0.024349  484.41  1330975828         0  \n",
       "1006710 -0.037015  0.616737 -0.613393    5.08  1361118812         0  \n",
       "1198722 -0.003250  0.073094  0.065862    4.64  1368703729         0  \n",
       "856011  -0.003314  0.055271  0.065353   71.82  1355662980         0  \n",
       "1232721 -0.006292  0.089877  0.056134   66.25  1369856930         0  \n",
       "...           ...       ...       ...     ...         ...       ...  \n",
       "434206  -0.002099  0.061242  0.054816    3.58  1342194578         0  \n",
       "546361  -0.008162  0.031094  0.025697   58.39  1345606806         0  \n",
       "1198531  0.020349 -0.156644 -0.069042   52.54  1368692878         0  \n",
       "357492  -0.002513  0.042965  0.030685  115.69  1339825240         0  \n",
       "227671  -0.031964  0.640939 -0.622489    9.42  1335342473         0  \n",
       "\n",
       "[7506 rows x 13 columns]"
      ]
     },
     "execution_count": 29,
     "metadata": {},
     "output_type": "execute_result"
    }
   ],
   "source": [
    "legit_random_sample"
   ]
  },
  {
   "cell_type": "code",
   "execution_count": 30,
   "id": "af6640e1-41c7-4261-a908-d45c6cdc86f9",
   "metadata": {},
   "outputs": [],
   "source": [
    "train= pd.concat([legit_random_sample,fraud], axis=0)"
   ]
  },
  {
   "cell_type": "code",
   "execution_count": 31,
   "id": "ac0f9226-c9b0-4c7d-943d-dee0bdc4d67c",
   "metadata": {},
   "outputs": [
    {
     "data": {
      "text/html": [
       "<div>\n",
       "<style scoped>\n",
       "    .dataframe tbody tr th:only-of-type {\n",
       "        vertical-align: middle;\n",
       "    }\n",
       "\n",
       "    .dataframe tbody tr th {\n",
       "        vertical-align: top;\n",
       "    }\n",
       "\n",
       "    .dataframe thead th {\n",
       "        text-align: right;\n",
       "    }\n",
       "</style>\n",
       "<table border=\"1\" class=\"dataframe\">\n",
       "  <thead>\n",
       "    <tr style=\"text-align: right;\">\n",
       "      <th></th>\n",
       "      <th>A</th>\n",
       "      <th>B</th>\n",
       "      <th>C</th>\n",
       "      <th>D</th>\n",
       "      <th>E</th>\n",
       "      <th>F</th>\n",
       "      <th>G</th>\n",
       "      <th>H</th>\n",
       "      <th>I</th>\n",
       "      <th>J</th>\n",
       "      <th>amt</th>\n",
       "      <th>unix_time</th>\n",
       "      <th>is_fraud</th>\n",
       "    </tr>\n",
       "  </thead>\n",
       "  <tbody>\n",
       "    <tr>\n",
       "      <th>114310</th>\n",
       "      <td>1.897597</td>\n",
       "      <td>-0.408023</td>\n",
       "      <td>-0.601743</td>\n",
       "      <td>-0.798008</td>\n",
       "      <td>0.498138</td>\n",
       "      <td>0.928397</td>\n",
       "      <td>-0.025778</td>\n",
       "      <td>-0.004132</td>\n",
       "      <td>0.029958</td>\n",
       "      <td>0.024349</td>\n",
       "      <td>484.41</td>\n",
       "      <td>1330975828</td>\n",
       "      <td>0</td>\n",
       "    </tr>\n",
       "    <tr>\n",
       "      <th>1006710</th>\n",
       "      <td>-1.886908</td>\n",
       "      <td>0.219311</td>\n",
       "      <td>-0.324516</td>\n",
       "      <td>-0.327234</td>\n",
       "      <td>1.090620</td>\n",
       "      <td>-0.522286</td>\n",
       "      <td>-0.136183</td>\n",
       "      <td>-0.037015</td>\n",
       "      <td>0.616737</td>\n",
       "      <td>-0.613393</td>\n",
       "      <td>5.08</td>\n",
       "      <td>1361118812</td>\n",
       "      <td>0</td>\n",
       "    </tr>\n",
       "    <tr>\n",
       "      <th>1198722</th>\n",
       "      <td>0.165219</td>\n",
       "      <td>0.274588</td>\n",
       "      <td>-0.300392</td>\n",
       "      <td>2.175636</td>\n",
       "      <td>0.781601</td>\n",
       "      <td>-0.174715</td>\n",
       "      <td>-0.060004</td>\n",
       "      <td>-0.003250</td>\n",
       "      <td>0.073094</td>\n",
       "      <td>0.065862</td>\n",
       "      <td>4.64</td>\n",
       "      <td>1368703729</td>\n",
       "      <td>0</td>\n",
       "    </tr>\n",
       "    <tr>\n",
       "      <th>856011</th>\n",
       "      <td>-1.823505</td>\n",
       "      <td>0.516948</td>\n",
       "      <td>-0.056391</td>\n",
       "      <td>-0.381417</td>\n",
       "      <td>1.049501</td>\n",
       "      <td>-0.527206</td>\n",
       "      <td>-0.042637</td>\n",
       "      <td>-0.003314</td>\n",
       "      <td>0.055271</td>\n",
       "      <td>0.065353</td>\n",
       "      <td>71.82</td>\n",
       "      <td>1355662980</td>\n",
       "      <td>0</td>\n",
       "    </tr>\n",
       "    <tr>\n",
       "      <th>1232721</th>\n",
       "      <td>-0.940143</td>\n",
       "      <td>0.078978</td>\n",
       "      <td>-0.390719</td>\n",
       "      <td>0.007284</td>\n",
       "      <td>0.499656</td>\n",
       "      <td>0.880457</td>\n",
       "      <td>-0.047703</td>\n",
       "      <td>-0.006292</td>\n",
       "      <td>0.089877</td>\n",
       "      <td>0.056134</td>\n",
       "      <td>66.25</td>\n",
       "      <td>1369856930</td>\n",
       "      <td>0</td>\n",
       "    </tr>\n",
       "    <tr>\n",
       "      <th>...</th>\n",
       "      <td>...</td>\n",
       "      <td>...</td>\n",
       "      <td>...</td>\n",
       "      <td>...</td>\n",
       "      <td>...</td>\n",
       "      <td>...</td>\n",
       "      <td>...</td>\n",
       "      <td>...</td>\n",
       "      <td>...</td>\n",
       "      <td>...</td>\n",
       "      <td>...</td>\n",
       "      <td>...</td>\n",
       "      <td>...</td>\n",
       "    </tr>\n",
       "    <tr>\n",
       "      <th>1295399</th>\n",
       "      <td>0.723863</td>\n",
       "      <td>0.183152</td>\n",
       "      <td>-0.216259</td>\n",
       "      <td>0.123916</td>\n",
       "      <td>0.956093</td>\n",
       "      <td>-0.354019</td>\n",
       "      <td>-0.070748</td>\n",
       "      <td>-0.006266</td>\n",
       "      <td>0.081081</td>\n",
       "      <td>0.063069</td>\n",
       "      <td>977.01</td>\n",
       "      <td>1371776408</td>\n",
       "      <td>1</td>\n",
       "    </tr>\n",
       "    <tr>\n",
       "      <th>1295491</th>\n",
       "      <td>0.723902</td>\n",
       "      <td>0.183218</td>\n",
       "      <td>-0.216206</td>\n",
       "      <td>0.124011</td>\n",
       "      <td>0.957553</td>\n",
       "      <td>-0.353252</td>\n",
       "      <td>-0.071269</td>\n",
       "      <td>-0.006334</td>\n",
       "      <td>0.081883</td>\n",
       "      <td>0.063773</td>\n",
       "      <td>1210.91</td>\n",
       "      <td>1371779615</td>\n",
       "      <td>1</td>\n",
       "    </tr>\n",
       "    <tr>\n",
       "      <th>1295532</th>\n",
       "      <td>-0.895823</td>\n",
       "      <td>0.258472</td>\n",
       "      <td>-0.240540</td>\n",
       "      <td>-0.030228</td>\n",
       "      <td>0.527407</td>\n",
       "      <td>0.897772</td>\n",
       "      <td>0.908285</td>\n",
       "      <td>0.020231</td>\n",
       "      <td>-0.144101</td>\n",
       "      <td>-0.076612</td>\n",
       "      <td>10.24</td>\n",
       "      <td>1371781016</td>\n",
       "      <td>1</td>\n",
       "    </tr>\n",
       "    <tr>\n",
       "      <th>1295666</th>\n",
       "      <td>0.884994</td>\n",
       "      <td>-0.172011</td>\n",
       "      <td>-0.468212</td>\n",
       "      <td>-0.512683</td>\n",
       "      <td>1.109374</td>\n",
       "      <td>-0.398020</td>\n",
       "      <td>0.899745</td>\n",
       "      <td>0.017490</td>\n",
       "      <td>-0.156533</td>\n",
       "      <td>-0.064055</td>\n",
       "      <td>21.69</td>\n",
       "      <td>1371785180</td>\n",
       "      <td>1</td>\n",
       "    </tr>\n",
       "    <tr>\n",
       "      <th>1295733</th>\n",
       "      <td>-0.895802</td>\n",
       "      <td>0.258444</td>\n",
       "      <td>-0.240502</td>\n",
       "      <td>-0.030353</td>\n",
       "      <td>0.527393</td>\n",
       "      <td>0.897727</td>\n",
       "      <td>0.908089</td>\n",
       "      <td>0.020230</td>\n",
       "      <td>-0.144063</td>\n",
       "      <td>-0.076608</td>\n",
       "      <td>10.20</td>\n",
       "      <td>1371787186</td>\n",
       "      <td>1</td>\n",
       "    </tr>\n",
       "  </tbody>\n",
       "</table>\n",
       "<p>15012 rows × 13 columns</p>\n",
       "</div>"
      ],
      "text/plain": [
       "                A         B         C         D         E         F         G  \\\n",
       "114310   1.897597 -0.408023 -0.601743 -0.798008  0.498138  0.928397 -0.025778   \n",
       "1006710 -1.886908  0.219311 -0.324516 -0.327234  1.090620 -0.522286 -0.136183   \n",
       "1198722  0.165219  0.274588 -0.300392  2.175636  0.781601 -0.174715 -0.060004   \n",
       "856011  -1.823505  0.516948 -0.056391 -0.381417  1.049501 -0.527206 -0.042637   \n",
       "1232721 -0.940143  0.078978 -0.390719  0.007284  0.499656  0.880457 -0.047703   \n",
       "...           ...       ...       ...       ...       ...       ...       ...   \n",
       "1295399  0.723863  0.183152 -0.216259  0.123916  0.956093 -0.354019 -0.070748   \n",
       "1295491  0.723902  0.183218 -0.216206  0.124011  0.957553 -0.353252 -0.071269   \n",
       "1295532 -0.895823  0.258472 -0.240540 -0.030228  0.527407  0.897772  0.908285   \n",
       "1295666  0.884994 -0.172011 -0.468212 -0.512683  1.109374 -0.398020  0.899745   \n",
       "1295733 -0.895802  0.258444 -0.240502 -0.030353  0.527393  0.897727  0.908089   \n",
       "\n",
       "                H         I         J      amt   unix_time  is_fraud  \n",
       "114310  -0.004132  0.029958  0.024349   484.41  1330975828         0  \n",
       "1006710 -0.037015  0.616737 -0.613393     5.08  1361118812         0  \n",
       "1198722 -0.003250  0.073094  0.065862     4.64  1368703729         0  \n",
       "856011  -0.003314  0.055271  0.065353    71.82  1355662980         0  \n",
       "1232721 -0.006292  0.089877  0.056134    66.25  1369856930         0  \n",
       "...           ...       ...       ...      ...         ...       ...  \n",
       "1295399 -0.006266  0.081081  0.063069   977.01  1371776408         1  \n",
       "1295491 -0.006334  0.081883  0.063773  1210.91  1371779615         1  \n",
       "1295532  0.020231 -0.144101 -0.076612    10.24  1371781016         1  \n",
       "1295666  0.017490 -0.156533 -0.064055    21.69  1371785180         1  \n",
       "1295733  0.020230 -0.144063 -0.076608    10.20  1371787186         1  \n",
       "\n",
       "[15012 rows x 13 columns]"
      ]
     },
     "execution_count": 31,
     "metadata": {},
     "output_type": "execute_result"
    }
   ],
   "source": [
    "train"
   ]
  },
  {
   "cell_type": "markdown",
   "id": "f675de8c-b7b1-4560-a0a8-5e2c489c8845",
   "metadata": {},
   "source": [
    "### Seperating the target variable"
   ]
  },
  {
   "cell_type": "code",
   "execution_count": 32,
   "id": "45d3575b-243b-4ca4-8e67-83c87b96ef30",
   "metadata": {},
   "outputs": [],
   "source": [
    "Y= train.is_fraud\n",
    "X_new= train.drop(['is_fraud'],axis=1)"
   ]
  },
  {
   "cell_type": "markdown",
   "id": "c1561cf3-754d-449b-83bc-84d0f0a10a1a",
   "metadata": {},
   "source": [
    "### Scaling the time and amount features "
   ]
  },
  {
   "cell_type": "code",
   "execution_count": 33,
   "id": "b0f0c539-2382-4e11-a3c3-8af0558a5a75",
   "metadata": {},
   "outputs": [],
   "source": [
    "from sklearn.preprocessing import StandardScaler\n",
    "scaler = StandardScaler()\n",
    "X_new[['unix_time', 'amt']] = scaler.fit_transform(X_new[['unix_time', 'amt']])"
   ]
  },
  {
   "cell_type": "markdown",
   "id": "669158e1-f759-4c85-bedb-931fe6413673",
   "metadata": {},
   "source": [
    "### Split the data into training and testing datasets"
   ]
  },
  {
   "cell_type": "code",
   "execution_count": 34,
   "id": "6d8ddd3b-9c04-4840-84fa-0d7c09bb28bc",
   "metadata": {},
   "outputs": [],
   "source": [
    "X_train, X_test, y_train, y_test = train_test_split(X_new, Y, test_size=0.2, random_state=2)"
   ]
  },
  {
   "cell_type": "markdown",
   "id": "d4edeec9-27a3-4568-9726-a45215fd58e1",
   "metadata": {},
   "source": [
    "### Using Logistic Regression for fraud classification"
   ]
  },
  {
   "cell_type": "code",
   "execution_count": 35,
   "id": "ca259549-b282-41e6-8d77-a37b75463ce4",
   "metadata": {},
   "outputs": [],
   "source": [
    "from sklearn.linear_model import LogisticRegression"
   ]
  },
  {
   "cell_type": "code",
   "execution_count": 36,
   "id": "04bda584-1e26-487e-8a4e-880674f7d452",
   "metadata": {},
   "outputs": [
    {
     "data": {
      "text/html": [
       "<style>#sk-container-id-1 {color: black;background-color: white;}#sk-container-id-1 pre{padding: 0;}#sk-container-id-1 div.sk-toggleable {background-color: white;}#sk-container-id-1 label.sk-toggleable__label {cursor: pointer;display: block;width: 100%;margin-bottom: 0;padding: 0.3em;box-sizing: border-box;text-align: center;}#sk-container-id-1 label.sk-toggleable__label-arrow:before {content: \"▸\";float: left;margin-right: 0.25em;color: #696969;}#sk-container-id-1 label.sk-toggleable__label-arrow:hover:before {color: black;}#sk-container-id-1 div.sk-estimator:hover label.sk-toggleable__label-arrow:before {color: black;}#sk-container-id-1 div.sk-toggleable__content {max-height: 0;max-width: 0;overflow: hidden;text-align: left;background-color: #f0f8ff;}#sk-container-id-1 div.sk-toggleable__content pre {margin: 0.2em;color: black;border-radius: 0.25em;background-color: #f0f8ff;}#sk-container-id-1 input.sk-toggleable__control:checked~div.sk-toggleable__content {max-height: 200px;max-width: 100%;overflow: auto;}#sk-container-id-1 input.sk-toggleable__control:checked~label.sk-toggleable__label-arrow:before {content: \"▾\";}#sk-container-id-1 div.sk-estimator input.sk-toggleable__control:checked~label.sk-toggleable__label {background-color: #d4ebff;}#sk-container-id-1 div.sk-label input.sk-toggleable__control:checked~label.sk-toggleable__label {background-color: #d4ebff;}#sk-container-id-1 input.sk-hidden--visually {border: 0;clip: rect(1px 1px 1px 1px);clip: rect(1px, 1px, 1px, 1px);height: 1px;margin: -1px;overflow: hidden;padding: 0;position: absolute;width: 1px;}#sk-container-id-1 div.sk-estimator {font-family: monospace;background-color: #f0f8ff;border: 1px dotted black;border-radius: 0.25em;box-sizing: border-box;margin-bottom: 0.5em;}#sk-container-id-1 div.sk-estimator:hover {background-color: #d4ebff;}#sk-container-id-1 div.sk-parallel-item::after {content: \"\";width: 100%;border-bottom: 1px solid gray;flex-grow: 1;}#sk-container-id-1 div.sk-label:hover label.sk-toggleable__label {background-color: #d4ebff;}#sk-container-id-1 div.sk-serial::before {content: \"\";position: absolute;border-left: 1px solid gray;box-sizing: border-box;top: 0;bottom: 0;left: 50%;z-index: 0;}#sk-container-id-1 div.sk-serial {display: flex;flex-direction: column;align-items: center;background-color: white;padding-right: 0.2em;padding-left: 0.2em;position: relative;}#sk-container-id-1 div.sk-item {position: relative;z-index: 1;}#sk-container-id-1 div.sk-parallel {display: flex;align-items: stretch;justify-content: center;background-color: white;position: relative;}#sk-container-id-1 div.sk-item::before, #sk-container-id-1 div.sk-parallel-item::before {content: \"\";position: absolute;border-left: 1px solid gray;box-sizing: border-box;top: 0;bottom: 0;left: 50%;z-index: -1;}#sk-container-id-1 div.sk-parallel-item {display: flex;flex-direction: column;z-index: 1;position: relative;background-color: white;}#sk-container-id-1 div.sk-parallel-item:first-child::after {align-self: flex-end;width: 50%;}#sk-container-id-1 div.sk-parallel-item:last-child::after {align-self: flex-start;width: 50%;}#sk-container-id-1 div.sk-parallel-item:only-child::after {width: 0;}#sk-container-id-1 div.sk-dashed-wrapped {border: 1px dashed gray;margin: 0 0.4em 0.5em 0.4em;box-sizing: border-box;padding-bottom: 0.4em;background-color: white;}#sk-container-id-1 div.sk-label label {font-family: monospace;font-weight: bold;display: inline-block;line-height: 1.2em;}#sk-container-id-1 div.sk-label-container {text-align: center;}#sk-container-id-1 div.sk-container {/* jupyter's `normalize.less` sets `[hidden] { display: none; }` but bootstrap.min.css set `[hidden] { display: none !important; }` so we also need the `!important` here to be able to override the default hidden behavior on the sphinx rendered scikit-learn.org. See: https://github.com/scikit-learn/scikit-learn/issues/21755 */display: inline-block !important;position: relative;}#sk-container-id-1 div.sk-text-repr-fallback {display: none;}</style><div id=\"sk-container-id-1\" class=\"sk-top-container\"><div class=\"sk-text-repr-fallback\"><pre>LogisticRegression(class_weight=&#x27;balanced&#x27;, random_state=42)</pre><b>In a Jupyter environment, please rerun this cell to show the HTML representation or trust the notebook. <br />On GitHub, the HTML representation is unable to render, please try loading this page with nbviewer.org.</b></div><div class=\"sk-container\" hidden><div class=\"sk-item\"><div class=\"sk-estimator sk-toggleable\"><input class=\"sk-toggleable__control sk-hidden--visually\" id=\"sk-estimator-id-1\" type=\"checkbox\" checked><label for=\"sk-estimator-id-1\" class=\"sk-toggleable__label sk-toggleable__label-arrow\">LogisticRegression</label><div class=\"sk-toggleable__content\"><pre>LogisticRegression(class_weight=&#x27;balanced&#x27;, random_state=42)</pre></div></div></div></div></div>"
      ],
      "text/plain": [
       "LogisticRegression(class_weight='balanced', random_state=42)"
      ]
     },
     "execution_count": 36,
     "metadata": {},
     "output_type": "execute_result"
    }
   ],
   "source": [
    "model = LogisticRegression(random_state=42,  class_weight='balanced')\n",
    "model.fit(X_train, y_train)"
   ]
  },
  {
   "cell_type": "code",
   "execution_count": 37,
   "id": "d2985515-036d-4a83-a0dd-bbdcaa0f2465",
   "metadata": {},
   "outputs": [],
   "source": [
    "y_pred = model.predict(X_test)"
   ]
  },
  {
   "cell_type": "markdown",
   "id": "3e122b69-756d-40c2-af21-9c3303f1242a",
   "metadata": {},
   "source": [
    "### Calculating all metrics"
   ]
  },
  {
   "cell_type": "code",
   "execution_count": 38,
   "id": "6076025b-bec5-4a7a-931c-e9763a3eefa5",
   "metadata": {},
   "outputs": [],
   "source": [
    "from sklearn.metrics import accuracy_score, precision_score, recall_score, f1_score, roc_auc_score, confusion_matrix, roc_curve, auc\n",
    "accuracy = accuracy_score(y_test, y_pred)"
   ]
  },
  {
   "cell_type": "code",
   "execution_count": 39,
   "id": "7709cf1e-5250-4da2-a07a-46adfcaa823f",
   "metadata": {},
   "outputs": [
    {
     "data": {
      "text/plain": [
       "is_fraud\n",
       "1    1504\n",
       "0    1499\n",
       "Name: count, dtype: int64"
      ]
     },
     "execution_count": 39,
     "metadata": {},
     "output_type": "execute_result"
    }
   ],
   "source": [
    "y_test.value_counts()"
   ]
  },
  {
   "cell_type": "code",
   "execution_count": 40,
   "id": "3d0a495f-1e36-4396-a1fc-3933d013741a",
   "metadata": {},
   "outputs": [
    {
     "data": {
      "text/plain": [
       "0.8268398268398268"
      ]
     },
     "execution_count": 40,
     "metadata": {},
     "output_type": "execute_result"
    }
   ],
   "source": [
    "accuracy"
   ]
  },
  {
   "cell_type": "code",
   "execution_count": 41,
   "id": "042f31d5-6767-4e4d-a9fc-d92500f6535e",
   "metadata": {},
   "outputs": [],
   "source": [
    "y_prob = model.predict_proba(X_test)[:, 1]"
   ]
  },
  {
   "cell_type": "code",
   "execution_count": 42,
   "id": "0615dfe3-6391-40c2-88fd-d8551269d73d",
   "metadata": {},
   "outputs": [],
   "source": [
    "precision = precision_score(y_test, y_pred)\n",
    "recall = recall_score(y_test, y_pred)\n",
    "f1 = f1_score(y_test, y_pred)\n",
    "roc_auc = roc_auc_score(y_test, y_prob)\n",
    "conf_matrix = confusion_matrix(y_test, y_pred)"
   ]
  },
  {
   "cell_type": "code",
   "execution_count": 43,
   "id": "3bb2cfc6-e5f3-4dab-aef0-5df25db01a85",
   "metadata": {},
   "outputs": [
    {
     "name": "stdout",
     "output_type": "stream",
     "text": [
      "Accuracy: 0.83\n",
      "Precision: 0.88\n",
      "Recall: 0.75\n",
      "F1 Score: 0.81\n",
      "ROC AUC Score: 0.89\n"
     ]
    }
   ],
   "source": [
    "print(f\"Accuracy: {accuracy:.2f}\")\n",
    "print(f\"Precision: {precision:.2f}\")\n",
    "print(f\"Recall: {recall:.2f}\")\n",
    "print(f\"F1 Score: {f1:.2f}\")\n",
    "print(f\"ROC AUC Score: {roc_auc:.2f}\")"
   ]
  },
  {
   "cell_type": "markdown",
   "id": "181e57ee-f8df-4665-bb0e-460c74499fbc",
   "metadata": {},
   "source": [
    "### Printing the confusion matrix"
   ]
  },
  {
   "cell_type": "code",
   "execution_count": 44,
   "id": "14705518-a87c-4de3-af42-c626a633b079",
   "metadata": {},
   "outputs": [],
   "source": [
    "def conf(y_test,y_pred):\n",
    "    confusion_matrix = metrics.confusion_matrix(y_test, y_pred)\n",
    "    cm_display = metrics.ConfusionMatrixDisplay(confusion_matrix = confusion_matrix, display_labels = [0, 1])\n",
    "    cm_display.plot()\n",
    "plt.show()"
   ]
  },
  {
   "cell_type": "code",
   "execution_count": 45,
   "id": "fd6a0a55-93fa-41df-97b5-d298c738f728",
   "metadata": {},
   "outputs": [],
   "source": [
    "from sklearn import metrics"
   ]
  },
  {
   "cell_type": "code",
   "execution_count": 46,
   "id": "04f43c6c-17d5-47c9-b8d1-8b83051a9d39",
   "metadata": {},
   "outputs": [
    {
     "data": {
      "image/png": "[encoded data removed]",
      "text/plain": [
       "<Figure size 640x480 with 2 Axes>"
      ]
     },
     "metadata": {},
     "output_type": "display_data"
    }
   ],
   "source": [
    "conf(y_test,y_pred)"
   ]
  }
 ],
 "metadata": {
  "kernelspec": {
   "display_name": "Python 3 (ipykernel)",
   "language": "python",
   "name": "python3"
  },
  "language_info": {
   "codemirror_mode": {
    "name": "ipython",
    "version": 3
   },
   "file_extension": ".py",
   "mimetype": "text/x-python",
   "name": "python",
   "nbconvert_exporter": "python",
   "pygments_lexer": "ipython3",
   "version": "3.11.7"
  }
 },
 "nbformat": 4,
 "nbformat_minor": 5
}
